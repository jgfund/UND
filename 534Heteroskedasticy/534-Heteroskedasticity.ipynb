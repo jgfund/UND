{
 "cells": [
  {
   "cell_type": "code",
   "execution_count": 1,
   "metadata": {},
   "outputs": [],
   "source": [
    "#From econ 534 Heteroskedasticity lesson\n",
    "#from Multiple Regression Section\n",
    "#test for heteroskedasticity using the White (1980) test\n",
    "#show how to use WLS/GLS to correct for hetereoskedasticity\n",
    "#White test for heteroskedasticity\n",
    "#call in homepriceV10.dta data, .dta is a STATA file"
   ]
  },
  {
   "cell_type": "code",
   "execution_count": 2,
   "metadata": {},
   "outputs": [
    {
     "data": {
      "text/html": [
       "<div>\n",
       "<style scoped>\n",
       "    .dataframe tbody tr th:only-of-type {\n",
       "        vertical-align: middle;\n",
       "    }\n",
       "\n",
       "    .dataframe tbody tr th {\n",
       "        vertical-align: top;\n",
       "    }\n",
       "\n",
       "    .dataframe thead th {\n",
       "        text-align: right;\n",
       "    }\n",
       "</style>\n",
       "<table border=\"1\" class=\"dataframe\">\n",
       "  <thead>\n",
       "    <tr style=\"text-align: right;\">\n",
       "      <th></th>\n",
       "      <th>id</th>\n",
       "      <th>price</th>\n",
       "      <th>floor</th>\n",
       "      <th>lot</th>\n",
       "      <th>bath</th>\n",
       "      <th>bed</th>\n",
       "      <th>bathbed</th>\n",
       "      <th>year</th>\n",
       "      <th>age</th>\n",
       "      <th>agesq</th>\n",
       "      <th>gar</th>\n",
       "      <th>status</th>\n",
       "      <th>dac</th>\n",
       "      <th>school</th>\n",
       "      <th>ded</th>\n",
       "      <th>dha</th>\n",
       "      <th>dad</th>\n",
       "      <th>dcr</th>\n",
       "      <th>dpa</th>\n",
       "    </tr>\n",
       "  </thead>\n",
       "  <tbody>\n",
       "    <tr>\n",
       "      <th>0</th>\n",
       "      <td>1</td>\n",
       "      <td>388.0</td>\n",
       "      <td>2180.0</td>\n",
       "      <td>4</td>\n",
       "      <td>3.0</td>\n",
       "      <td>4</td>\n",
       "      <td>12.0</td>\n",
       "      <td>1940</td>\n",
       "      <td>-3.0</td>\n",
       "      <td>9.00</td>\n",
       "      <td>0</td>\n",
       "      <td>Sold</td>\n",
       "      <td>0</td>\n",
       "      <td>Edison</td>\n",
       "      <td>1</td>\n",
       "      <td>0</td>\n",
       "      <td>0</td>\n",
       "      <td>0</td>\n",
       "      <td>0</td>\n",
       "    </tr>\n",
       "    <tr>\n",
       "      <th>1</th>\n",
       "      <td>2</td>\n",
       "      <td>450.0</td>\n",
       "      <td>2054.0</td>\n",
       "      <td>5</td>\n",
       "      <td>3.0</td>\n",
       "      <td>4</td>\n",
       "      <td>12.0</td>\n",
       "      <td>1957</td>\n",
       "      <td>-1.3</td>\n",
       "      <td>1.69</td>\n",
       "      <td>2</td>\n",
       "      <td>Sold</td>\n",
       "      <td>0</td>\n",
       "      <td>Edison</td>\n",
       "      <td>1</td>\n",
       "      <td>0</td>\n",
       "      <td>0</td>\n",
       "      <td>0</td>\n",
       "      <td>0</td>\n",
       "    </tr>\n",
       "    <tr>\n",
       "      <th>2</th>\n",
       "      <td>3</td>\n",
       "      <td>386.0</td>\n",
       "      <td>2112.0</td>\n",
       "      <td>5</td>\n",
       "      <td>2.0</td>\n",
       "      <td>4</td>\n",
       "      <td>8.0</td>\n",
       "      <td>1955</td>\n",
       "      <td>-1.5</td>\n",
       "      <td>2.25</td>\n",
       "      <td>2</td>\n",
       "      <td>Sold</td>\n",
       "      <td>0</td>\n",
       "      <td>Edison</td>\n",
       "      <td>1</td>\n",
       "      <td>0</td>\n",
       "      <td>0</td>\n",
       "      <td>0</td>\n",
       "      <td>0</td>\n",
       "    </tr>\n",
       "    <tr>\n",
       "      <th>3</th>\n",
       "      <td>4</td>\n",
       "      <td>350.0</td>\n",
       "      <td>1442.0</td>\n",
       "      <td>6</td>\n",
       "      <td>1.0</td>\n",
       "      <td>2</td>\n",
       "      <td>2.0</td>\n",
       "      <td>1956</td>\n",
       "      <td>-1.4</td>\n",
       "      <td>1.96</td>\n",
       "      <td>1</td>\n",
       "      <td>Active</td>\n",
       "      <td>1</td>\n",
       "      <td>Adams</td>\n",
       "      <td>0</td>\n",
       "      <td>0</td>\n",
       "      <td>1</td>\n",
       "      <td>0</td>\n",
       "      <td>0</td>\n",
       "    </tr>\n",
       "    <tr>\n",
       "      <th>4</th>\n",
       "      <td>5</td>\n",
       "      <td>155.5</td>\n",
       "      <td>1800.0</td>\n",
       "      <td>1</td>\n",
       "      <td>2.0</td>\n",
       "      <td>4</td>\n",
       "      <td>8.0</td>\n",
       "      <td>1994</td>\n",
       "      <td>2.4</td>\n",
       "      <td>5.76</td>\n",
       "      <td>1</td>\n",
       "      <td>Sold</td>\n",
       "      <td>0</td>\n",
       "      <td>Adams</td>\n",
       "      <td>0</td>\n",
       "      <td>0</td>\n",
       "      <td>1</td>\n",
       "      <td>0</td>\n",
       "      <td>0</td>\n",
       "    </tr>\n",
       "  </tbody>\n",
       "</table>\n",
       "</div>"
      ],
      "text/plain": [
       "   id  price   floor  lot  bath  bed  bathbed  year  age  agesq  gar  status  \\\n",
       "0   1  388.0  2180.0    4   3.0    4     12.0  1940 -3.0   9.00    0    Sold   \n",
       "1   2  450.0  2054.0    5   3.0    4     12.0  1957 -1.3   1.69    2    Sold   \n",
       "2   3  386.0  2112.0    5   2.0    4      8.0  1955 -1.5   2.25    2    Sold   \n",
       "3   4  350.0  1442.0    6   1.0    2      2.0  1956 -1.4   1.96    1  Active   \n",
       "4   5  155.5  1800.0    1   2.0    4      8.0  1994  2.4   5.76    1    Sold   \n",
       "\n",
       "   dac  school  ded  dha  dad  dcr  dpa  \n",
       "0    0  Edison    1    0    0    0    0  \n",
       "1    0  Edison    1    0    0    0    0  \n",
       "2    0  Edison    1    0    0    0    0  \n",
       "3    1   Adams    0    0    1    0    0  \n",
       "4    0   Adams    0    0    1    0    0  "
      ]
     },
     "execution_count": 2,
     "metadata": {},
     "output_type": "execute_result"
    }
   ],
   "source": [
    "#let's prepare a new dataframe\n",
    "import pandas as pd\n",
    "hpv10data = 'C:/Users/jfras/OneDrive/UND/534AppliedEcon/Datasets/homepriceV10.dta'\n",
    "#make sure you preserve data types, otherwise it all comes in as strings\n",
    "housedata = pd.read_stata(hpv10data, preserve_dtypes=True)\n",
    "df1 = pd.DataFrame(housedata)\n",
    "df1['status']=df1['status'].astype('string')\n",
    "df1['school']=df1['school'].astype('string')\n",
    "#take a look at the data frame\n",
    "df1.head()"
   ]
  },
  {
   "cell_type": "code",
   "execution_count": 3,
   "metadata": {},
   "outputs": [
    {
     "name": "stdout",
     "output_type": "stream",
     "text": [
      "Check your data Datatypes after import\n",
      "id            int8\n",
      "price      float32\n",
      "floor      float32\n",
      "lot           int8\n",
      "bath       float32\n",
      "bed           int8\n",
      "bathbed    float32\n",
      "year         int16\n",
      "age        float32\n",
      "agesq      float32\n",
      "gar           int8\n",
      "status      string\n",
      "dac           int8\n",
      "school      string\n",
      "ded           int8\n",
      "dha           int8\n",
      "dad           int8\n",
      "dcr           int8\n",
      "dpa           int8\n",
      "dtype: object\n"
     ]
    }
   ],
   "source": [
    "print('Check your data Datatypes after import')\n",
    "print(df1.dtypes)\n",
    "#if you see any ojbect data types, go back up to prior cell and change them to strings\n",
    "#look in the prior cell where 'status' and 'school' were changed to strings"
   ]
  },
  {
   "cell_type": "code",
   "execution_count": 4,
   "metadata": {},
   "outputs": [
    {
     "data": {
      "text/html": [
       "<div>\n",
       "<style scoped>\n",
       "    .dataframe tbody tr th:only-of-type {\n",
       "        vertical-align: middle;\n",
       "    }\n",
       "\n",
       "    .dataframe tbody tr th {\n",
       "        vertical-align: top;\n",
       "    }\n",
       "\n",
       "    .dataframe thead th {\n",
       "        text-align: right;\n",
       "    }\n",
       "</style>\n",
       "<table border=\"1\" class=\"dataframe\">\n",
       "  <thead>\n",
       "    <tr style=\"text-align: right;\">\n",
       "      <th></th>\n",
       "      <th>id</th>\n",
       "      <th>price</th>\n",
       "      <th>floor</th>\n",
       "      <th>lot</th>\n",
       "      <th>bath</th>\n",
       "      <th>bed</th>\n",
       "      <th>bathbed</th>\n",
       "      <th>year</th>\n",
       "      <th>age</th>\n",
       "      <th>agesq</th>\n",
       "      <th>gar</th>\n",
       "      <th>dac</th>\n",
       "      <th>ded</th>\n",
       "      <th>dha</th>\n",
       "      <th>dad</th>\n",
       "      <th>dcr</th>\n",
       "      <th>dpa</th>\n",
       "    </tr>\n",
       "  </thead>\n",
       "  <tbody>\n",
       "    <tr>\n",
       "      <th>count</th>\n",
       "      <td>76.000000</td>\n",
       "      <td>76.000000</td>\n",
       "      <td>76.000000</td>\n",
       "      <td>76.000000</td>\n",
       "      <td>76.000000</td>\n",
       "      <td>76.000000</td>\n",
       "      <td>76.000000</td>\n",
       "      <td>76.000000</td>\n",
       "      <td>76.000000</td>\n",
       "      <td>76.000000</td>\n",
       "      <td>76.000000</td>\n",
       "      <td>76.000000</td>\n",
       "      <td>76.000000</td>\n",
       "      <td>76.000000</td>\n",
       "      <td>76.000000</td>\n",
       "      <td>76.000000</td>\n",
       "      <td>76.000000</td>\n",
       "    </tr>\n",
       "    <tr>\n",
       "      <th>mean</th>\n",
       "      <td>38.500000</td>\n",
       "      <td>285.796112</td>\n",
       "      <td>1970.394775</td>\n",
       "      <td>3.986842</td>\n",
       "      <td>2.207895</td>\n",
       "      <td>3.447368</td>\n",
       "      <td>7.672367</td>\n",
       "      <td>1969.407895</td>\n",
       "      <td>-0.059211</td>\n",
       "      <td>5.449868</td>\n",
       "      <td>1.565789</td>\n",
       "      <td>0.328947</td>\n",
       "      <td>0.157895</td>\n",
       "      <td>0.184211</td>\n",
       "      <td>0.039474</td>\n",
       "      <td>0.078947</td>\n",
       "      <td>0.197368</td>\n",
       "    </tr>\n",
       "    <tr>\n",
       "      <th>std</th>\n",
       "      <td>22.083176</td>\n",
       "      <td>60.333218</td>\n",
       "      <td>212.419968</td>\n",
       "      <td>1.653227</td>\n",
       "      <td>0.570325</td>\n",
       "      <td>0.737468</td>\n",
       "      <td>2.764663</td>\n",
       "      <td>23.492511</td>\n",
       "      <td>2.349251</td>\n",
       "      <td>8.206545</td>\n",
       "      <td>0.771760</td>\n",
       "      <td>0.472953</td>\n",
       "      <td>0.367065</td>\n",
       "      <td>0.390232</td>\n",
       "      <td>0.196013</td>\n",
       "      <td>0.271448</td>\n",
       "      <td>0.400657</td>\n",
       "    </tr>\n",
       "    <tr>\n",
       "      <th>min</th>\n",
       "      <td>1.000000</td>\n",
       "      <td>155.500000</td>\n",
       "      <td>1440.000000</td>\n",
       "      <td>1.000000</td>\n",
       "      <td>1.000000</td>\n",
       "      <td>2.000000</td>\n",
       "      <td>2.000000</td>\n",
       "      <td>1905.000000</td>\n",
       "      <td>-6.500000</td>\n",
       "      <td>0.000000</td>\n",
       "      <td>0.000000</td>\n",
       "      <td>0.000000</td>\n",
       "      <td>0.000000</td>\n",
       "      <td>0.000000</td>\n",
       "      <td>0.000000</td>\n",
       "      <td>0.000000</td>\n",
       "      <td>0.000000</td>\n",
       "    </tr>\n",
       "    <tr>\n",
       "      <th>25%</th>\n",
       "      <td>19.750000</td>\n",
       "      <td>242.750000</td>\n",
       "      <td>1860.750000</td>\n",
       "      <td>3.000000</td>\n",
       "      <td>2.000000</td>\n",
       "      <td>3.000000</td>\n",
       "      <td>6.000000</td>\n",
       "      <td>1957.750000</td>\n",
       "      <td>-1.225000</td>\n",
       "      <td>0.250000</td>\n",
       "      <td>1.000000</td>\n",
       "      <td>0.000000</td>\n",
       "      <td>0.000000</td>\n",
       "      <td>0.000000</td>\n",
       "      <td>0.000000</td>\n",
       "      <td>0.000000</td>\n",
       "      <td>0.000000</td>\n",
       "    </tr>\n",
       "    <tr>\n",
       "      <th>50%</th>\n",
       "      <td>38.500000</td>\n",
       "      <td>276.000000</td>\n",
       "      <td>1966.500000</td>\n",
       "      <td>4.000000</td>\n",
       "      <td>2.000000</td>\n",
       "      <td>3.000000</td>\n",
       "      <td>6.300000</td>\n",
       "      <td>1969.500000</td>\n",
       "      <td>-0.050000</td>\n",
       "      <td>1.220000</td>\n",
       "      <td>2.000000</td>\n",
       "      <td>0.000000</td>\n",
       "      <td>0.000000</td>\n",
       "      <td>0.000000</td>\n",
       "      <td>0.000000</td>\n",
       "      <td>0.000000</td>\n",
       "      <td>0.000000</td>\n",
       "    </tr>\n",
       "    <tr>\n",
       "      <th>75%</th>\n",
       "      <td>57.250000</td>\n",
       "      <td>336.750000</td>\n",
       "      <td>2107.500000</td>\n",
       "      <td>5.000000</td>\n",
       "      <td>3.000000</td>\n",
       "      <td>4.000000</td>\n",
       "      <td>9.000000</td>\n",
       "      <td>1980.000000</td>\n",
       "      <td>1.000000</td>\n",
       "      <td>9.000000</td>\n",
       "      <td>2.000000</td>\n",
       "      <td>1.000000</td>\n",
       "      <td>0.000000</td>\n",
       "      <td>0.000000</td>\n",
       "      <td>0.000000</td>\n",
       "      <td>0.000000</td>\n",
       "      <td>0.000000</td>\n",
       "    </tr>\n",
       "    <tr>\n",
       "      <th>max</th>\n",
       "      <td>76.000000</td>\n",
       "      <td>450.000000</td>\n",
       "      <td>2896.000000</td>\n",
       "      <td>11.000000</td>\n",
       "      <td>3.100000</td>\n",
       "      <td>6.000000</td>\n",
       "      <td>15.000000</td>\n",
       "      <td>2005.000000</td>\n",
       "      <td>3.500000</td>\n",
       "      <td>42.250000</td>\n",
       "      <td>3.000000</td>\n",
       "      <td>1.000000</td>\n",
       "      <td>1.000000</td>\n",
       "      <td>1.000000</td>\n",
       "      <td>1.000000</td>\n",
       "      <td>1.000000</td>\n",
       "      <td>1.000000</td>\n",
       "    </tr>\n",
       "  </tbody>\n",
       "</table>\n",
       "</div>"
      ],
      "text/plain": [
       "              id       price        floor        lot       bath        bed  \\\n",
       "count  76.000000   76.000000    76.000000  76.000000  76.000000  76.000000   \n",
       "mean   38.500000  285.796112  1970.394775   3.986842   2.207895   3.447368   \n",
       "std    22.083176   60.333218   212.419968   1.653227   0.570325   0.737468   \n",
       "min     1.000000  155.500000  1440.000000   1.000000   1.000000   2.000000   \n",
       "25%    19.750000  242.750000  1860.750000   3.000000   2.000000   3.000000   \n",
       "50%    38.500000  276.000000  1966.500000   4.000000   2.000000   3.000000   \n",
       "75%    57.250000  336.750000  2107.500000   5.000000   3.000000   4.000000   \n",
       "max    76.000000  450.000000  2896.000000  11.000000   3.100000   6.000000   \n",
       "\n",
       "         bathbed         year        age      agesq        gar        dac  \\\n",
       "count  76.000000    76.000000  76.000000  76.000000  76.000000  76.000000   \n",
       "mean    7.672367  1969.407895  -0.059211   5.449868   1.565789   0.328947   \n",
       "std     2.764663    23.492511   2.349251   8.206545   0.771760   0.472953   \n",
       "min     2.000000  1905.000000  -6.500000   0.000000   0.000000   0.000000   \n",
       "25%     6.000000  1957.750000  -1.225000   0.250000   1.000000   0.000000   \n",
       "50%     6.300000  1969.500000  -0.050000   1.220000   2.000000   0.000000   \n",
       "75%     9.000000  1980.000000   1.000000   9.000000   2.000000   1.000000   \n",
       "max    15.000000  2005.000000   3.500000  42.250000   3.000000   1.000000   \n",
       "\n",
       "             ded        dha        dad        dcr        dpa  \n",
       "count  76.000000  76.000000  76.000000  76.000000  76.000000  \n",
       "mean    0.157895   0.184211   0.039474   0.078947   0.197368  \n",
       "std     0.367065   0.390232   0.196013   0.271448   0.400657  \n",
       "min     0.000000   0.000000   0.000000   0.000000   0.000000  \n",
       "25%     0.000000   0.000000   0.000000   0.000000   0.000000  \n",
       "50%     0.000000   0.000000   0.000000   0.000000   0.000000  \n",
       "75%     0.000000   0.000000   0.000000   0.000000   0.000000  \n",
       "max     1.000000   1.000000   1.000000   1.000000   1.000000  "
      ]
     },
     "execution_count": 4,
     "metadata": {},
     "output_type": "execute_result"
    }
   ],
   "source": [
    "#some summary stats\n",
    "df1.describe()"
   ]
  },
  {
   "cell_type": "code",
   "execution_count": 5,
   "metadata": {},
   "outputs": [
    {
     "data": {
      "text/plain": [
       "(76, 19)"
      ]
     },
     "execution_count": 5,
     "metadata": {},
     "output_type": "execute_result"
    }
   ],
   "source": [
    "#take a look at the data frame shape\n",
    "df1.shape\n",
    "#(rows,columns)"
   ]
  },
  {
   "cell_type": "code",
   "execution_count": 6,
   "metadata": {},
   "outputs": [],
   "source": [
    "#descriptive analysis by graphing\n",
    "#using pyplot from matplotlib\n",
    "import numpy as np\n",
    "import matplotlib.pyplot\n",
    "from matplotlib import pyplot as plt\n",
    "import matplotlib.pyplot as plt\n",
    "\n",
    "#known issue with having import statement in same cell as graph code,\n",
    "#graph won't work until you executive block twice\n",
    "\n",
    "#https://github.com/jupyter/notebook/issues/3691\n",
    "#https://github.com/ipython/ipython/pull/11916\n",
    "#code from pull 11916\n",
    "#import ipykernel.pylab.backend_inline\n",
    "#matplotlib.rcParams['backend'] = backend\n",
    "#matplotlib.pyplot.switch_backend(backend)\n",
    "#plt.switch_backend(backend)\n",
    "#plt.show._needmain = False"
   ]
  },
  {
   "cell_type": "code",
   "execution_count": 7,
   "metadata": {},
   "outputs": [
    {
     "data": {
      "text/plain": [
       "<Figure size 432x288 with 0 Axes>"
      ]
     },
     "metadata": {},
     "output_type": "display_data"
    },
    {
     "data": {
      "image/png": "[encoded data removed]",
      "text/plain": [
       "<Figure size 432x288 with 1 Axes>"
      ]
     },
     "metadata": {
      "needs_background": "light"
     },
     "output_type": "display_data"
    }
   ],
   "source": [
    "#some options...\n",
    "#plt.ion()\n",
    "#plt.figure(figsize=(15,10))\n",
    "plt.tight_layout()\n",
    "#now the plot using matplotlib.pyplot.plot\n",
    "#style is the third optional argument which is the color and line type\n",
    "df1.plot(x='floor', y='price', style='o')\n",
    "plt.title('Square Feet vs Price')\n",
    "plt.xlabel('Floor')  \n",
    "plt.ylabel('Price')\n",
    "plt.pause(.10)\n",
    "plt.show(block=False)\n",
    "\n",
    "#legend disappears with this method below\n",
    "##plt.plot('floor', 'price', 'o', data=df)\n",
    "#https://matplotlib.org/3.1.1/api/_as_gen/matplotlib.pyplot.plot.html\n"
   ]
  },
  {
   "cell_type": "code",
   "execution_count": 8,
   "metadata": {},
   "outputs": [
    {
     "name": "stderr",
     "output_type": "stream",
     "text": [
      "C:\\Users\\jfras\\Anaconda3\\lib\\site-packages\\matplotlib\\axes\\_axes.py:6462: UserWarning: The 'normed' kwarg is deprecated, and has been replaced by the 'density' kwarg.\n",
      "  warnings.warn(\"The 'normed' kwarg is deprecated, and has been \"\n"
     ]
    },
    {
     "data": {
      "text/plain": [
       "<matplotlib.axes._subplots.AxesSubplot at 0x20c18e6e908>"
      ]
     },
     "execution_count": 8,
     "metadata": {},
     "output_type": "execute_result"
    },
    {
     "data": {
      "image/png": "[encoded data removed]",
      "text/plain": [
       "<Figure size 432x288 with 1 Axes>"
      ]
     },
     "metadata": {
      "needs_background": "light"
     },
     "output_type": "display_data"
    }
   ],
   "source": [
    "#check distribution of price using seaborn\n",
    "import seaborn as seabornInstance \n",
    "#plt.figure(figsize=(15,10))\n",
    "#plt.tight_layout()\n",
    "seabornInstance.distplot(df1['price'])"
   ]
  },
  {
   "cell_type": "code",
   "execution_count": 9,
   "metadata": {},
   "outputs": [
    {
     "data": {
      "text/html": [
       "<div>\n",
       "<style scoped>\n",
       "    .dataframe tbody tr th:only-of-type {\n",
       "        vertical-align: middle;\n",
       "    }\n",
       "\n",
       "    .dataframe tbody tr th {\n",
       "        vertical-align: top;\n",
       "    }\n",
       "\n",
       "    .dataframe thead th {\n",
       "        text-align: right;\n",
       "    }\n",
       "</style>\n",
       "<table border=\"1\" class=\"dataframe\">\n",
       "  <thead>\n",
       "    <tr style=\"text-align: right;\">\n",
       "      <th></th>\n",
       "      <th>floor</th>\n",
       "      <th>lot</th>\n",
       "      <th>bed</th>\n",
       "      <th>constant</th>\n",
       "    </tr>\n",
       "  </thead>\n",
       "  <tbody>\n",
       "    <tr>\n",
       "      <th>0</th>\n",
       "      <td>2180.0</td>\n",
       "      <td>4.0</td>\n",
       "      <td>4.0</td>\n",
       "      <td>1</td>\n",
       "    </tr>\n",
       "    <tr>\n",
       "      <th>1</th>\n",
       "      <td>2054.0</td>\n",
       "      <td>5.0</td>\n",
       "      <td>4.0</td>\n",
       "      <td>1</td>\n",
       "    </tr>\n",
       "    <tr>\n",
       "      <th>2</th>\n",
       "      <td>2112.0</td>\n",
       "      <td>5.0</td>\n",
       "      <td>4.0</td>\n",
       "      <td>1</td>\n",
       "    </tr>\n",
       "    <tr>\n",
       "      <th>3</th>\n",
       "      <td>1442.0</td>\n",
       "      <td>6.0</td>\n",
       "      <td>2.0</td>\n",
       "      <td>1</td>\n",
       "    </tr>\n",
       "    <tr>\n",
       "      <th>4</th>\n",
       "      <td>1800.0</td>\n",
       "      <td>1.0</td>\n",
       "      <td>4.0</td>\n",
       "      <td>1</td>\n",
       "    </tr>\n",
       "  </tbody>\n",
       "</table>\n",
       "</div>"
      ],
      "text/plain": [
       "    floor  lot  bed  constant\n",
       "0  2180.0  4.0  4.0         1\n",
       "1  2054.0  5.0  4.0         1\n",
       "2  2112.0  5.0  4.0         1\n",
       "3  1442.0  6.0  2.0         1\n",
       "4  1800.0  1.0  4.0         1"
      ]
     },
     "execution_count": 9,
     "metadata": {},
     "output_type": "execute_result"
    }
   ],
   "source": [
    "#setup 3 variables as a dataframe of independent variables for later use\n",
    "flbdata = pd.read_stata(hpv10data,columns=['floor', 'lot', 'bed'],preserve_dtypes=True).values\n",
    "#X = pd.read_stata(hpv10data, preserve_dtypes=True)\n",
    "X = pd.DataFrame(flbdata)\n",
    "X.columns =['floor','lot','bed']\n",
    "#a constant must be added for the het_white test to work\n",
    "X['constant']=1\n",
    "X.shape\n",
    "#print(X)\n",
    "X.columns.values\n",
    "X.head()\n",
    "#print(X.dtypes)"
   ]
  },
  {
   "cell_type": "code",
   "execution_count": 10,
   "metadata": {},
   "outputs": [
    {
     "name": "stdout",
     "output_type": "stream",
     "text": [
      "price    float32\n",
      "dtype: object\n"
     ]
    }
   ],
   "source": [
    "#setup y as the dependent variable dataframe for later use\n",
    "pricedata = df1['price'].values.reshape(-1,1)\n",
    "y = pd.DataFrame(pricedata)\n",
    "y.columns =['price']\n",
    "y.shape\n",
    "y.head()\n",
    "print(y.dtypes)"
   ]
  },
  {
   "cell_type": "code",
   "execution_count": 11,
   "metadata": {},
   "outputs": [
    {
     "name": "stdout",
     "output_type": "stream",
     "text": [
      "                            OLS Regression Results                            \n",
      "==============================================================================\n",
      "Dep. Variable:                      y   R-squared:                       0.185\n",
      "Model:                            OLS   Adj. R-squared:                  0.151\n",
      "Method:                 Least Squares   F-statistic:                     5.449\n",
      "Date:                Sun, 11 Oct 2020   Prob (F-statistic):            0.00197\n",
      "Time:                        09:36:34   Log-Likelihood:                -411.15\n",
      "No. Observations:                  76   AIC:                             830.3\n",
      "Df Residuals:                      72   BIC:                             839.6\n",
      "Df Model:                           3                                         \n",
      "Covariance Type:            nonrobust                                         \n",
      "==============================================================================\n",
      "                 coef    std err          t      P>|t|      [0.025      0.975]\n",
      "------------------------------------------------------------------------------\n",
      "Intercept    199.5321     64.415      3.098      0.003      71.123     327.941\n",
      "lot            6.0519      3.993      1.515      0.134      -1.909      14.012\n",
      "floor          0.0766      0.031      2.451      0.017       0.014       0.139\n",
      "bed          -25.7770      9.210     -2.799      0.007     -44.137      -7.417\n",
      "==============================================================================\n",
      "Omnibus:                        1.294   Durbin-Watson:                   1.188\n",
      "Prob(Omnibus):                  0.524   Jarque-Bera (JB):                1.268\n",
      "Skew:                           0.300   Prob(JB):                        0.530\n",
      "Kurtosis:                       2.798   Cond. No.                     2.00e+04\n",
      "==============================================================================\n",
      "\n",
      "Notes:\n",
      "[1] Standard Errors assume that the covariance matrix of the errors is correctly specified.\n",
      "[2] The condition number is large,  2e+04. This might indicate that there are\n",
      "strong multicollinearity or other numerical problems.\n"
     ]
    }
   ],
   "source": [
    "#create the regression using stats models\n",
    "import statsmodels.api as sm\n",
    "from statsmodels.formula.api import ols\n",
    "from statsmodels.stats.anova import anova_lm\n",
    "#regress price on lot, floor, bed\n",
    "expr1 = 'y ~ lot + floor + bed'\n",
    "lm1 = ols(expr1, df1).fit()\n",
    "print(lm1.summary())\n",
    "\n",
    "\n",
    "#can print specific parts of the results\n",
    "#print(regr.intercept_)\n",
    "#print(regr.coef_)\n",
    "\n",
    "#could have use sklean as below but, statsmodels anova table looks nicer\n",
    "#from sklearn.linear_model import LinearRegression\n",
    "#regress price on lot, floor, bed\n",
    "#regr = LinearRegression()\n",
    "#regr.fit(X, y)"
   ]
  },
  {
   "cell_type": "code",
   "execution_count": 12,
   "metadata": {},
   "outputs": [
    {
     "name": "stdout",
     "output_type": "stream",
     "text": [
      "rsquared()\n",
      " 0.18502569189605078\n",
      "parameters()\n",
      " Intercept    199.532070\n",
      "lot            6.051861\n",
      "floor          0.076634\n",
      "bed          -25.777043\n",
      "dtype: float64\n"
     ]
    }
   ],
   "source": [
    "#you can use these commands to print the attributes of the regeression, similair to STATA's \"e\"\n",
    "#print(\"summary()\\n\",lm1.summary())\n",
    "#print(\"pvalues()\\n\",lm1.pvalues)\n",
    "#print(\"tvalues()\\n\",lm1.tvalues)\n",
    "print(\"rsquared()\\n\",lm1.rsquared)\n",
    "#print(\"rsquared_adj()\\n\",lm2.rsquared_adj)\n",
    "print(\"parameters()\\n\",lm1.params)\n",
    "\n",
    "#https://www.statsmodels.org/stable/generated/statsmodels.regression.linear_model.OLSResults.html#statsmodels.regression.linear_model.OLSResults"
   ]
  },
  {
   "cell_type": "code",
   "execution_count": 13,
   "metadata": {},
   "outputs": [],
   "source": [
    "#https://www.statsmodels.org/v0.10.2/examples/notebooks/generated/predict.html"
   ]
  },
  {
   "cell_type": "code",
   "execution_count": 14,
   "metadata": {},
   "outputs": [
    {
     "name": "stdout",
     "output_type": "stream",
     "text": [
      "residuals()\n",
      " 0     100.306647\n",
      "1     165.910664\n",
      "2      97.465895\n",
      "3      55.204694\n",
      "4     -84.916869\n",
      "         ...    \n",
      "71    -36.258459\n",
      "72    -44.115543\n",
      "73     73.572299\n",
      "74     11.652871\n",
      "75     32.713782\n",
      "Length: 76, dtype: float64\n"
     ]
    }
   ],
   "source": [
    "print(\"residuals()\\n\",lm1.resid)"
   ]
  },
  {
   "cell_type": "code",
   "execution_count": 15,
   "metadata": {},
   "outputs": [
    {
     "name": "stdout",
     "output_type": "stream",
     "text": [
      "predicted value()\n",
      " 0     287.693353\n",
      "1     284.089336\n",
      "2     288.534105\n",
      "3     294.795306\n",
      "4     240.416869\n",
      "         ...    \n",
      "71    286.158452\n",
      "72    259.115543\n",
      "73    361.427701\n",
      "74    263.247122\n",
      "75    316.786218\n",
      "Length: 76, dtype: float64\n"
     ]
    }
   ],
   "source": [
    "print(\"predicted value()\\n\",lm1.fittedvalues)"
   ]
  },
  {
   "cell_type": "code",
   "execution_count": 16,
   "metadata": {},
   "outputs": [
    {
     "data": {
      "text/html": [
       "<div>\n",
       "<style scoped>\n",
       "    .dataframe tbody tr th:only-of-type {\n",
       "        vertical-align: middle;\n",
       "    }\n",
       "\n",
       "    .dataframe tbody tr th {\n",
       "        vertical-align: top;\n",
       "    }\n",
       "\n",
       "    .dataframe thead th {\n",
       "        text-align: right;\n",
       "    }\n",
       "</style>\n",
       "<table border=\"1\" class=\"dataframe\">\n",
       "  <thead>\n",
       "    <tr style=\"text-align: right;\">\n",
       "      <th></th>\n",
       "      <th>id</th>\n",
       "      <th>price</th>\n",
       "      <th>floor</th>\n",
       "      <th>lot</th>\n",
       "      <th>bath</th>\n",
       "      <th>bed</th>\n",
       "      <th>bathbed</th>\n",
       "      <th>year</th>\n",
       "      <th>age</th>\n",
       "      <th>agesq</th>\n",
       "      <th>...</th>\n",
       "      <th>status</th>\n",
       "      <th>dac</th>\n",
       "      <th>school</th>\n",
       "      <th>ded</th>\n",
       "      <th>dha</th>\n",
       "      <th>dad</th>\n",
       "      <th>dcr</th>\n",
       "      <th>dpa</th>\n",
       "      <th>yhat</th>\n",
       "      <th>uhat</th>\n",
       "    </tr>\n",
       "  </thead>\n",
       "  <tbody>\n",
       "    <tr>\n",
       "      <th>0</th>\n",
       "      <td>1</td>\n",
       "      <td>388.0</td>\n",
       "      <td>2180.0</td>\n",
       "      <td>4</td>\n",
       "      <td>3.0</td>\n",
       "      <td>4</td>\n",
       "      <td>12.0</td>\n",
       "      <td>1940</td>\n",
       "      <td>-3.0</td>\n",
       "      <td>9.00</td>\n",
       "      <td>...</td>\n",
       "      <td>Sold</td>\n",
       "      <td>0</td>\n",
       "      <td>Edison</td>\n",
       "      <td>1</td>\n",
       "      <td>0</td>\n",
       "      <td>0</td>\n",
       "      <td>0</td>\n",
       "      <td>0</td>\n",
       "      <td>287.693353</td>\n",
       "      <td>100.306647</td>\n",
       "    </tr>\n",
       "    <tr>\n",
       "      <th>1</th>\n",
       "      <td>2</td>\n",
       "      <td>450.0</td>\n",
       "      <td>2054.0</td>\n",
       "      <td>5</td>\n",
       "      <td>3.0</td>\n",
       "      <td>4</td>\n",
       "      <td>12.0</td>\n",
       "      <td>1957</td>\n",
       "      <td>-1.3</td>\n",
       "      <td>1.69</td>\n",
       "      <td>...</td>\n",
       "      <td>Sold</td>\n",
       "      <td>0</td>\n",
       "      <td>Edison</td>\n",
       "      <td>1</td>\n",
       "      <td>0</td>\n",
       "      <td>0</td>\n",
       "      <td>0</td>\n",
       "      <td>0</td>\n",
       "      <td>284.089336</td>\n",
       "      <td>165.910664</td>\n",
       "    </tr>\n",
       "    <tr>\n",
       "      <th>2</th>\n",
       "      <td>3</td>\n",
       "      <td>386.0</td>\n",
       "      <td>2112.0</td>\n",
       "      <td>5</td>\n",
       "      <td>2.0</td>\n",
       "      <td>4</td>\n",
       "      <td>8.0</td>\n",
       "      <td>1955</td>\n",
       "      <td>-1.5</td>\n",
       "      <td>2.25</td>\n",
       "      <td>...</td>\n",
       "      <td>Sold</td>\n",
       "      <td>0</td>\n",
       "      <td>Edison</td>\n",
       "      <td>1</td>\n",
       "      <td>0</td>\n",
       "      <td>0</td>\n",
       "      <td>0</td>\n",
       "      <td>0</td>\n",
       "      <td>288.534105</td>\n",
       "      <td>97.465895</td>\n",
       "    </tr>\n",
       "    <tr>\n",
       "      <th>3</th>\n",
       "      <td>4</td>\n",
       "      <td>350.0</td>\n",
       "      <td>1442.0</td>\n",
       "      <td>6</td>\n",
       "      <td>1.0</td>\n",
       "      <td>2</td>\n",
       "      <td>2.0</td>\n",
       "      <td>1956</td>\n",
       "      <td>-1.4</td>\n",
       "      <td>1.96</td>\n",
       "      <td>...</td>\n",
       "      <td>Active</td>\n",
       "      <td>1</td>\n",
       "      <td>Adams</td>\n",
       "      <td>0</td>\n",
       "      <td>0</td>\n",
       "      <td>1</td>\n",
       "      <td>0</td>\n",
       "      <td>0</td>\n",
       "      <td>294.795306</td>\n",
       "      <td>55.204694</td>\n",
       "    </tr>\n",
       "    <tr>\n",
       "      <th>4</th>\n",
       "      <td>5</td>\n",
       "      <td>155.5</td>\n",
       "      <td>1800.0</td>\n",
       "      <td>1</td>\n",
       "      <td>2.0</td>\n",
       "      <td>4</td>\n",
       "      <td>8.0</td>\n",
       "      <td>1994</td>\n",
       "      <td>2.4</td>\n",
       "      <td>5.76</td>\n",
       "      <td>...</td>\n",
       "      <td>Sold</td>\n",
       "      <td>0</td>\n",
       "      <td>Adams</td>\n",
       "      <td>0</td>\n",
       "      <td>0</td>\n",
       "      <td>1</td>\n",
       "      <td>0</td>\n",
       "      <td>0</td>\n",
       "      <td>240.416869</td>\n",
       "      <td>-84.916869</td>\n",
       "    </tr>\n",
       "  </tbody>\n",
       "</table>\n",
       "<p>5 rows × 21 columns</p>\n",
       "</div>"
      ],
      "text/plain": [
       "   id  price   floor  lot  bath  bed  bathbed  year  age  agesq  ...  status  \\\n",
       "0   1  388.0  2180.0    4   3.0    4     12.0  1940 -3.0   9.00  ...    Sold   \n",
       "1   2  450.0  2054.0    5   3.0    4     12.0  1957 -1.3   1.69  ...    Sold   \n",
       "2   3  386.0  2112.0    5   2.0    4      8.0  1955 -1.5   2.25  ...    Sold   \n",
       "3   4  350.0  1442.0    6   1.0    2      2.0  1956 -1.4   1.96  ...  Active   \n",
       "4   5  155.5  1800.0    1   2.0    4      8.0  1994  2.4   5.76  ...    Sold   \n",
       "\n",
       "  dac  school ded  dha  dad  dcr  dpa        yhat        uhat  \n",
       "0   0  Edison   1    0    0    0    0  287.693353  100.306647  \n",
       "1   0  Edison   1    0    0    0    0  284.089336  165.910664  \n",
       "2   0  Edison   1    0    0    0    0  288.534105   97.465895  \n",
       "3   1   Adams   0    0    1    0    0  294.795306   55.204694  \n",
       "4   0   Adams   0    0    1    0    0  240.416869  -84.916869  \n",
       "\n",
       "[5 rows x 21 columns]"
      ]
     },
     "execution_count": 16,
     "metadata": {},
     "output_type": "execute_result"
    }
   ],
   "source": [
    "#add predicted and residual value to dataframe\n",
    "df1['yhat'] = lm1.fittedvalues\n",
    "df1['uhat'] = lm1.resid\n",
    "#df1.shape\n",
    "#if you want to look a visual of dataframe at this point\n",
    "df1.head()"
   ]
  },
  {
   "cell_type": "code",
   "execution_count": 17,
   "metadata": {},
   "outputs": [],
   "source": [
    "# calculate residual (uhat) for plotting\n",
    "#uhat= df1.price-df1.yhat\n",
    "#print(uhat)\n",
    "#uhat.shape"
   ]
  },
  {
   "cell_type": "code",
   "execution_count": 18,
   "metadata": {},
   "outputs": [],
   "source": [
    "#first create the predicted value of y for plotting\n",
    "#yhat = lm1.predict()\n",
    "#print(yhat)"
   ]
  },
  {
   "cell_type": "code",
   "execution_count": 19,
   "metadata": {},
   "outputs": [
    {
     "name": "stderr",
     "output_type": "stream",
     "text": [
      "C:\\Users\\jfras\\Anaconda3\\lib\\site-packages\\matplotlib\\cbook\\__init__.py:2062: FutureWarning: Support for multi-dimensional indexing (e.g. `obj[:, None]`) is deprecated and will be removed in a future version.  Convert to a numpy array before indexing instead.\n",
      "  x[:, None]\n",
      "C:\\Users\\jfras\\Anaconda3\\lib\\site-packages\\matplotlib\\axes\\_base.py:248: FutureWarning: Support for multi-dimensional indexing (e.g. `obj[:, None]`) is deprecated and will be removed in a future version.  Convert to a numpy array before indexing instead.\n",
      "  x = x[:, np.newaxis]\n",
      "C:\\Users\\jfras\\Anaconda3\\lib\\site-packages\\matplotlib\\axes\\_base.py:250: FutureWarning: Support for multi-dimensional indexing (e.g. `obj[:, None]`) is deprecated and will be removed in a future version.  Convert to a numpy array before indexing instead.\n",
      "  y = y[:, np.newaxis]\n"
     ]
    },
    {
     "data": {
      "text/plain": [
       "Text(0.5,1,'Actual Price vs Predicted Price')"
      ]
     },
     "execution_count": 19,
     "metadata": {},
     "output_type": "execute_result"
    },
    {
     "data": {
      "image/png": "[encoded data removed]",
      "text/plain": [
       "<Figure size 432x288 with 1 Axes>"
      ]
     },
     "metadata": {
      "needs_background": "light"
     },
     "output_type": "display_data"
    }
   ],
   "source": [
    "#visualize price on x axes and predicted price on y axes\n",
    "plt.plot(df1.price, df1.yhat, 'o', color='black')\n",
    "plt.xlabel('Actual Price')  \n",
    "plt.ylabel('Predicted value')\n",
    "plt.title(\"Actual Price vs Predicted Price\")"
   ]
  },
  {
   "cell_type": "code",
   "execution_count": 20,
   "metadata": {},
   "outputs": [],
   "source": [
    "#LONG METHOD FOR WHITE TEST\n",
    "#now do the white test for heteroskedasticity showing the work done by the library function het_white behind the scenes"
   ]
  },
  {
   "cell_type": "code",
   "execution_count": 21,
   "metadata": {},
   "outputs": [],
   "source": [
    "#prep some interative variables for white test"
   ]
  },
  {
   "cell_type": "code",
   "execution_count": 22,
   "metadata": {},
   "outputs": [],
   "source": [
    "#put residual in a data frame for future use\n",
    "#df9a = pd.DataFrame(uhat)\n",
    "#df9a.columns =['uhat']\n",
    "\n",
    "#df9a.head()\n",
    "#df9a.shape\n",
    "#df9a.columns.values\n",
    "#print(df9a.dtypes)"
   ]
  },
  {
   "cell_type": "code",
   "execution_count": 23,
   "metadata": {},
   "outputs": [
    {
     "data": {
      "text/plain": [
       "Text(0,0.5,'Residual')"
      ]
     },
     "execution_count": 23,
     "metadata": {},
     "output_type": "execute_result"
    },
    {
     "data": {
      "image/png": "[encoded data removed]",
      "text/plain": [
       "<Figure size 432x288 with 1 Axes>"
      ]
     },
     "metadata": {
      "needs_background": "light"
     },
     "output_type": "display_data"
    }
   ],
   "source": [
    "#residual plot\n",
    "#df9a is the residual from cell above\n",
    "plt.plot(df1.yhat,df1.uhat, 'o', color='darkblue')\n",
    "plt.title(\"Residual Plot\")\n",
    "plt.xlabel(\"Predicted Price\")\n",
    "plt.ylabel(\"Residual\")"
   ]
  },
  {
   "cell_type": "code",
   "execution_count": 24,
   "metadata": {},
   "outputs": [
    {
     "data": {
      "text/plain": [
       "(76, 28)"
      ]
     },
     "execution_count": 24,
     "metadata": {},
     "output_type": "execute_result"
    }
   ],
   "source": [
    "#to do the long method of the white test(show how it works)\n",
    "#create some interaction variables and add them to the data frame\n",
    "df1['uhat_2'] = df1.uhat * df1.uhat\n",
    "df1['lot_floor'] = df1.lot * df1.floor\n",
    "df1['lot_bed'] = df1.lot * df1.bed\n",
    "df1['floor_bed'] = df1.floor * df1.bed\n",
    "df1['lot_2'] = df1.lot * df1.lot\n",
    "df1['floor_2'] = df1.floor * df1.floor\n",
    "df1['bed_2'] = df1.bed * df1.bed\n",
    "#check the dataframe, previously was 21 columns, should have added 7 columns for a total of 28\n",
    "df1.shape\n",
    "#df.tail()"
   ]
  },
  {
   "cell_type": "code",
   "execution_count": 25,
   "metadata": {},
   "outputs": [
    {
     "data": {
      "text/html": [
       "<div>\n",
       "<style scoped>\n",
       "    .dataframe tbody tr th:only-of-type {\n",
       "        vertical-align: middle;\n",
       "    }\n",
       "\n",
       "    .dataframe tbody tr th {\n",
       "        vertical-align: top;\n",
       "    }\n",
       "\n",
       "    .dataframe thead th {\n",
       "        text-align: right;\n",
       "    }\n",
       "</style>\n",
       "<table border=\"1\" class=\"dataframe\">\n",
       "  <thead>\n",
       "    <tr style=\"text-align: right;\">\n",
       "      <th></th>\n",
       "      <th>id</th>\n",
       "      <th>price</th>\n",
       "      <th>floor</th>\n",
       "      <th>lot</th>\n",
       "      <th>bath</th>\n",
       "      <th>bed</th>\n",
       "      <th>bathbed</th>\n",
       "      <th>year</th>\n",
       "      <th>age</th>\n",
       "      <th>agesq</th>\n",
       "      <th>...</th>\n",
       "      <th>dpa</th>\n",
       "      <th>yhat</th>\n",
       "      <th>uhat</th>\n",
       "      <th>uhat_2</th>\n",
       "      <th>lot_floor</th>\n",
       "      <th>lot_bed</th>\n",
       "      <th>floor_bed</th>\n",
       "      <th>lot_2</th>\n",
       "      <th>floor_2</th>\n",
       "      <th>bed_2</th>\n",
       "    </tr>\n",
       "  </thead>\n",
       "  <tbody>\n",
       "    <tr>\n",
       "      <th>0</th>\n",
       "      <td>1</td>\n",
       "      <td>388.0</td>\n",
       "      <td>2180.0</td>\n",
       "      <td>4</td>\n",
       "      <td>3.0</td>\n",
       "      <td>4</td>\n",
       "      <td>12.0</td>\n",
       "      <td>1940</td>\n",
       "      <td>-3.0</td>\n",
       "      <td>9.00</td>\n",
       "      <td>...</td>\n",
       "      <td>0</td>\n",
       "      <td>287.693353</td>\n",
       "      <td>100.306647</td>\n",
       "      <td>10061.423520</td>\n",
       "      <td>8720.0</td>\n",
       "      <td>16</td>\n",
       "      <td>8720.0</td>\n",
       "      <td>16</td>\n",
       "      <td>4752400.0</td>\n",
       "      <td>16</td>\n",
       "    </tr>\n",
       "    <tr>\n",
       "      <th>1</th>\n",
       "      <td>2</td>\n",
       "      <td>450.0</td>\n",
       "      <td>2054.0</td>\n",
       "      <td>5</td>\n",
       "      <td>3.0</td>\n",
       "      <td>4</td>\n",
       "      <td>12.0</td>\n",
       "      <td>1957</td>\n",
       "      <td>-1.3</td>\n",
       "      <td>1.69</td>\n",
       "      <td>...</td>\n",
       "      <td>0</td>\n",
       "      <td>284.089336</td>\n",
       "      <td>165.910664</td>\n",
       "      <td>27526.348481</td>\n",
       "      <td>10270.0</td>\n",
       "      <td>20</td>\n",
       "      <td>8216.0</td>\n",
       "      <td>25</td>\n",
       "      <td>4218916.0</td>\n",
       "      <td>16</td>\n",
       "    </tr>\n",
       "    <tr>\n",
       "      <th>2</th>\n",
       "      <td>3</td>\n",
       "      <td>386.0</td>\n",
       "      <td>2112.0</td>\n",
       "      <td>5</td>\n",
       "      <td>2.0</td>\n",
       "      <td>4</td>\n",
       "      <td>8.0</td>\n",
       "      <td>1955</td>\n",
       "      <td>-1.5</td>\n",
       "      <td>2.25</td>\n",
       "      <td>...</td>\n",
       "      <td>0</td>\n",
       "      <td>288.534105</td>\n",
       "      <td>97.465895</td>\n",
       "      <td>9499.600698</td>\n",
       "      <td>10560.0</td>\n",
       "      <td>20</td>\n",
       "      <td>8448.0</td>\n",
       "      <td>25</td>\n",
       "      <td>4460544.0</td>\n",
       "      <td>16</td>\n",
       "    </tr>\n",
       "    <tr>\n",
       "      <th>3</th>\n",
       "      <td>4</td>\n",
       "      <td>350.0</td>\n",
       "      <td>1442.0</td>\n",
       "      <td>6</td>\n",
       "      <td>1.0</td>\n",
       "      <td>2</td>\n",
       "      <td>2.0</td>\n",
       "      <td>1956</td>\n",
       "      <td>-1.4</td>\n",
       "      <td>1.96</td>\n",
       "      <td>...</td>\n",
       "      <td>0</td>\n",
       "      <td>294.795306</td>\n",
       "      <td>55.204694</td>\n",
       "      <td>3047.558292</td>\n",
       "      <td>8652.0</td>\n",
       "      <td>12</td>\n",
       "      <td>2884.0</td>\n",
       "      <td>36</td>\n",
       "      <td>2079364.0</td>\n",
       "      <td>4</td>\n",
       "    </tr>\n",
       "    <tr>\n",
       "      <th>4</th>\n",
       "      <td>5</td>\n",
       "      <td>155.5</td>\n",
       "      <td>1800.0</td>\n",
       "      <td>1</td>\n",
       "      <td>2.0</td>\n",
       "      <td>4</td>\n",
       "      <td>8.0</td>\n",
       "      <td>1994</td>\n",
       "      <td>2.4</td>\n",
       "      <td>5.76</td>\n",
       "      <td>...</td>\n",
       "      <td>0</td>\n",
       "      <td>240.416869</td>\n",
       "      <td>-84.916869</td>\n",
       "      <td>7210.874558</td>\n",
       "      <td>1800.0</td>\n",
       "      <td>4</td>\n",
       "      <td>7200.0</td>\n",
       "      <td>1</td>\n",
       "      <td>3240000.0</td>\n",
       "      <td>16</td>\n",
       "    </tr>\n",
       "  </tbody>\n",
       "</table>\n",
       "<p>5 rows × 28 columns</p>\n",
       "</div>"
      ],
      "text/plain": [
       "   id  price   floor  lot  bath  bed  bathbed  year  age  agesq  ...  dpa  \\\n",
       "0   1  388.0  2180.0    4   3.0    4     12.0  1940 -3.0   9.00  ...    0   \n",
       "1   2  450.0  2054.0    5   3.0    4     12.0  1957 -1.3   1.69  ...    0   \n",
       "2   3  386.0  2112.0    5   2.0    4      8.0  1955 -1.5   2.25  ...    0   \n",
       "3   4  350.0  1442.0    6   1.0    2      2.0  1956 -1.4   1.96  ...    0   \n",
       "4   5  155.5  1800.0    1   2.0    4      8.0  1994  2.4   5.76  ...    0   \n",
       "\n",
       "         yhat        uhat        uhat_2  lot_floor  lot_bed  floor_bed  lot_2  \\\n",
       "0  287.693353  100.306647  10061.423520     8720.0       16     8720.0     16   \n",
       "1  284.089336  165.910664  27526.348481    10270.0       20     8216.0     25   \n",
       "2  288.534105   97.465895   9499.600698    10560.0       20     8448.0     25   \n",
       "3  294.795306   55.204694   3047.558292     8652.0       12     2884.0     36   \n",
       "4  240.416869  -84.916869   7210.874558     1800.0        4     7200.0      1   \n",
       "\n",
       "     floor_2  bed_2  \n",
       "0  4752400.0     16  \n",
       "1  4218916.0     16  \n",
       "2  4460544.0     16  \n",
       "3  2079364.0      4  \n",
       "4  3240000.0     16  \n",
       "\n",
       "[5 rows x 28 columns]"
      ]
     },
     "execution_count": 25,
     "metadata": {},
     "output_type": "execute_result"
    }
   ],
   "source": [
    "df1.head()"
   ]
  },
  {
   "cell_type": "code",
   "execution_count": 26,
   "metadata": {},
   "outputs": [],
   "source": [
    "#if you make a mistake you can drop a variable with for example df.drop([uhat_2,axis=1])\n",
    "#axis=1 means column not a row"
   ]
  },
  {
   "cell_type": "code",
   "execution_count": 27,
   "metadata": {},
   "outputs": [
    {
     "name": "stdout",
     "output_type": "stream",
     "text": [
      "                            OLS Regression Results                            \n",
      "==============================================================================\n",
      "Dep. Variable:                 uhat_2   R-squared:                       0.050\n",
      "Model:                            OLS   Adj. R-squared:                 -0.080\n",
      "Method:                 Least Squares   F-statistic:                    0.3861\n",
      "Date:                Sun, 11 Oct 2020   Prob (F-statistic):              0.938\n",
      "Time:                        09:36:39   Log-Likelihood:                -734.81\n",
      "No. Observations:                  76   AIC:                             1490.\n",
      "Df Residuals:                      66   BIC:                             1513.\n",
      "Df Model:                           9                                         \n",
      "Covariance Type:            nonrobust                                         \n",
      "==============================================================================\n",
      "                 coef    std err          t      P>|t|      [0.025      0.975]\n",
      "------------------------------------------------------------------------------\n",
      "Intercept  -3459.2323   3.05e+04     -0.113      0.910   -6.44e+04    5.75e+04\n",
      "lot        -3138.9587   4469.837     -0.702      0.485   -1.21e+04    5785.359\n",
      "floor         32.8089     25.959      1.264      0.211     -19.019      84.637\n",
      "bed        -1.257e+04   1.48e+04     -0.850      0.399   -4.21e+04     1.7e+04\n",
      "lot_floor      1.2484      2.064      0.605      0.547      -2.872       5.369\n",
      "lot_bed      195.8522    659.334      0.297      0.767   -1120.551    1512.256\n",
      "floor_bed      6.2714      5.714      1.098      0.276      -5.137      17.680\n",
      "lot_2          9.3346    103.015      0.091      0.928    -196.341     215.010\n",
      "floor_2       -0.0146      0.011     -1.342      0.184      -0.036       0.007\n",
      "bed_2        -40.1089    864.425     -0.046      0.963   -1765.990    1685.772\n",
      "==============================================================================\n",
      "Omnibus:                       84.901   Durbin-Watson:                   1.435\n",
      "Prob(Omnibus):                  0.000   Jarque-Bera (JB):             1000.503\n",
      "Skew:                           3.358   Prob(JB):                    5.54e-218\n",
      "Kurtosis:                      19.457   Cond. No.                     2.73e+08\n",
      "==============================================================================\n",
      "\n",
      "Notes:\n",
      "[1] Standard Errors assume that the covariance matrix of the errors is correctly specified.\n",
      "[2] The condition number is large, 2.73e+08. This might indicate that there are\n",
      "strong multicollinearity or other numerical problems.\n"
     ]
    }
   ],
   "source": [
    "#using statsmodels\n",
    "#and using these interactive variables and the residual uhat from above\n",
    "#regress residual squared on 'floor', 'lot', 'bed','lot_floor','lot_bed','floor_bed','lot_2','floor_2','bed_2'\n",
    "expr2 = 'uhat_2 ~ lot + floor + bed + lot_floor + lot_bed + floor_bed + lot_2 + floor_2 + bed_2'\n",
    "lm2 = ols(expr2, df1).fit()\n",
    "print(lm2.summary())\n"
   ]
  },
  {
   "cell_type": "code",
   "execution_count": 28,
   "metadata": {},
   "outputs": [
    {
     "name": "stdout",
     "output_type": "stream",
     "text": [
      "rsquared()\n",
      " 0.05002106404811424\n",
      "parameters()\n",
      " Intercept    -3459.232309\n",
      "lot          -3138.958737\n",
      "floor           32.808880\n",
      "bed         -12567.505842\n",
      "lot_floor        1.248386\n",
      "lot_bed        195.852150\n",
      "floor_bed        6.271407\n",
      "lot_2            9.334646\n",
      "floor_2         -0.014615\n",
      "bed_2          -40.108943\n",
      "dtype: float64\n"
     ]
    }
   ],
   "source": [
    "#you can use these commands to print the attributes of the regeression, similair to stata's \"e\"\n",
    "#print(\"summary()\\n\",lm2.summary())\n",
    "#print(\"pvalues()\\n\",lm2.pvalues)\n",
    "#print(\"tvalues()\\n\",lm2.tvalues)\n",
    "print(\"rsquared()\\n\",lm2.rsquared)\n",
    "#print(\"rsquared_adj()\\n\",lm2.rsquared_adj)\n",
    "print(\"parameters()\\n\",lm2.params)"
   ]
  },
  {
   "cell_type": "code",
   "execution_count": 29,
   "metadata": {},
   "outputs": [
    {
     "name": "stdout",
     "output_type": "stream",
     "text": [
      "0.05002106404811424\n",
      "9.0\n",
      "66.0\n",
      "76.0\n"
     ]
    }
   ],
   "source": [
    "#you can declare variables from regression attributes for later use\n",
    "#R squared\n",
    "rsquaredlm2 = lm2.rsquared\n",
    "print (rsquaredlm2)\n",
    "#degrees of freedom\n",
    "degfreedmodlm2 = lm2.df_model\n",
    "print(degfreedmodlm2)\n",
    "#degrees of freedom for the residutal\n",
    "degfreedreslm2 = lm2.df_resid\n",
    "print(degfreedreslm2)\n",
    "#number of observations for regression\n",
    "numobslm2 = lm2.nobs\n",
    "print(numobslm2)\n"
   ]
  },
  {
   "cell_type": "code",
   "execution_count": 30,
   "metadata": {},
   "outputs": [],
   "source": [
    "#try to emulate STATA's di chi2tail(9, e(r2)*e(N)), #di is display\n",
    "#--Description: the reverse cumulative (upper tail or survivor) \n",
    "#--X2 distribution with df degrees of\n",
    "#--freedom; 1 if x < 0\n",
    "#--chi2tail(df,x) = 1 - chi2(df,x)"
   ]
  },
  {
   "cell_type": "code",
   "execution_count": 31,
   "metadata": {},
   "outputs": [
    {
     "name": "stdout",
     "output_type": "stream",
     "text": [
      "crifical value for 95% conficence level with 9 degrees of freedom \n",
      " 16.918977604620448\n",
      "0.95\n"
     ]
    }
   ],
   "source": [
    "#comparison for upcoming chi squared test\n",
    "from scipy.stats import chi2\n",
    "#scipy.stats.chi2(*args, **kwds) = <scipy.stats._continuous_distns.chi2_gen object>\n",
    "#find the critical value for a 95% confidence level\n",
    "value = chi2.ppf(0.95, degfreedmodlm2)\n",
    "print(\"crifical value for 95% conficence level with 9 degrees of freedom \\n\",value)\n",
    "\n",
    "#confirm with cdf\n",
    "p= chi2.cdf(value, degfreedmodlm2)\n",
    "print(p)\n",
    "\n",
    "#scipy.stats.chi2(*args, **kwds) = <scipy.stats._continuous_distns.chi2_gen object>\n",
    "#https://docs.scipy.org/doc/scipy-0.14.0/reference/generated/scipy.stats.chi2.html"
   ]
  },
  {
   "cell_type": "code",
   "execution_count": 32,
   "metadata": {},
   "outputs": [
    {
     "name": "stdout",
     "output_type": "stream",
     "text": [
      "0.07602141306938352\n",
      "0.9239785869306165\n"
     ]
    }
   ],
   "source": [
    "arg2=(lm2.rsquared * lm2.nobs)\n",
    "value2 = chi2.cdf(arg2, degfreedmodlm2)\n",
    "value3 = (1-(chi2.cdf(arg2, degfreedmodlm2)))\n",
    "print(value2)\n",
    "print(value3)"
   ]
  },
  {
   "cell_type": "code",
   "execution_count": 33,
   "metadata": {},
   "outputs": [],
   "source": [
    "#https://docs.scipy.org/doc/scipy/reference/generated/scipy.stats.chi2.html\n",
    "#https://docs.scipy.org/doc/scipy/reference/generated/scipy.stats.chisquare.html\n",
    "#https://docs.scipy.org/doc/scipy/reference/generated/scipy.stats.chisquare.html#scipy.stats.chisquare\n",
    "#http://hamelg.blogspot.com/2015/11/python-for-data-analysis-part-25-chi.html    "
   ]
  },
  {
   "cell_type": "code",
   "execution_count": 34,
   "metadata": {},
   "outputs": [],
   "source": [
    "#some white test instructions\n",
    "#null for white test is homoskedasticity\n",
    "#faling to reject null means homoskedasticity\n",
    "\n",
    "#http://hamelg.blogspot.com/2015/11/python-for-data-analysis-part-25-chi.html\n",
    "#https://docs.scipy.org/doc/scipy/reference/generated/scipy.stats.chisquare.html\n",
    "#https://docs.scipy.org/doc/scipy/reference/generated/scipy.stats.power_divergence.html#scipy.stats.power_divergence\n",
    "#https://www.programiz.com/python-programming/tuple\n",
    "#https://mgimond.github.io/Stats-in-R/ChiSquare_test.html"
   ]
  },
  {
   "cell_type": "code",
   "execution_count": 35,
   "metadata": {},
   "outputs": [
    {
     "name": "stdout",
     "output_type": "stream",
     "text": [
      "{'LM Statistic': 3.801601565234669, 'LM-Test p-value': 0.9239785444990298, 'F-Statistic': 0.38613614820801134, 'F-Test p-value': 0.937739827139006}\n"
     ]
    }
   ],
   "source": [
    "#quick white test\n",
    "#returns\n",
    "#-Lagrange multiplier stat\n",
    "#-p-value of Langrange multiplier test\n",
    "#-F-Statistic of the hypothesis that error variance does not depend on x\n",
    "#-p-value of the F statistic\n",
    "\n",
    "# X dataframe is from cell 9\n",
    "# y dataframe is from cell 10\n",
    "#df9a dataframe is from cell 18\n",
    "#df1 dataframe is updated in cell 19\n",
    "\n",
    "from statsmodels.stats.diagnostic import het_white\n",
    "white_test1 = het_white(lm1.resid,X)\n",
    "labels = ['LM Statistic', 'LM-Test p-value', 'F-Statistic','F-Test p-value']\n",
    "print(dict(zip(labels, white_test1)))\n",
    "\n",
    "#https://medium.com/@remycanario17/tests-for-heteroskedasticity-in-python-208a0fdb04ab\n",
    "#https://www.statsmodels.org/v0.10.1/generated/statsmodels.stats.diagnostic.het_white.html\n",
    "#https://medium.com/keita-starts-data-science/heteroskedasticity-in-linear-regressions-and-python-16eb57eaa09"
   ]
  },
  {
   "cell_type": "code",
   "execution_count": 36,
   "metadata": {},
   "outputs": [
    {
     "name": "stdout",
     "output_type": "stream",
     "text": [
      "{'LM Statistic': 1.040730109221272, 'LM-Test p-value': 0.7913977980886473, 'F-Statistic': 0.3332145931744623, 'F-Test p-value': 0.8013452291004389}\n"
     ]
    }
   ],
   "source": [
    "#quick breuschpagan test\n",
    "from statsmodels.stats.diagnostic import het_breuschpagan\n",
    "pg_test1 = het_breuschpagan(lm1.resid,X)\n",
    "labels = ['LM Statistic', 'LM-Test p-value', 'F-Statistic','F-Test p-value']\n",
    "print(dict(zip(labels, pg_test1)))"
   ]
  },
  {
   "cell_type": "code",
   "execution_count": 37,
   "metadata": {},
   "outputs": [
    {
     "name": "stdout",
     "output_type": "stream",
     "text": [
      "      Table 1 - OLS Regressions\n",
      "=====================================\n",
      "                  Model 1   Model 2  \n",
      "-------------------------------------\n",
      "Intercept        199.53*** -3459.23  \n",
      "                 (64.42)   (30536.00)\n",
      "lot              6.05      -3138.96  \n",
      "                 (3.99)    (4469.84) \n",
      "floor            0.08**    32.81     \n",
      "                 (0.03)    (25.96)   \n",
      "bed              -25.78*** -12567.51 \n",
      "                 (9.21)    (14788.80)\n",
      "lot_bed                    195.85    \n",
      "                           (659.33)  \n",
      "floor_2                    -0.01     \n",
      "                           (0.01)    \n",
      "lot_floor                  1.25      \n",
      "                           (2.06)    \n",
      "bed_2                      -40.11    \n",
      "                           (864.43)  \n",
      "floor_bed                  6.27      \n",
      "                           (5.71)    \n",
      "lot_2                      9.33      \n",
      "                           (103.01)  \n",
      "R-squared        0.19      0.05      \n",
      "R-squared Adj.   0.15      -0.08     \n",
      "R-squared        0.19      0.05      \n",
      "No. observations 76        76        \n",
      "=====================================\n",
      "Standard errors in parentheses.\n",
      "* p<.1, ** p<.05, ***p<.01\n"
     ]
    }
   ],
   "source": [
    "#now we'll collect some of the above regressions and print in an excel table\n",
    "#import the summary_col from the statsmodels library\n",
    "from statsmodels.iolib.summary2 import summary_col\n",
    "#example,dictionary of values to be called, .2f is a float with two decimals, d rounds to integer\n",
    "info_dict1={'R-squared' : lambda x: f\"{x.rsquared:.2f}\",\n",
    "           'No. observations' : lambda x: f\"{int(x.nobs):d}\"}\n",
    "\n",
    "results_table1 = summary_col(results=[lm1,lm2],\n",
    "                            float_format='%0.2f',\n",
    "                            stars = True,\n",
    "                            model_names=['Model 1',\n",
    "                                         'Model 2',\n",
    "                                         ],\n",
    "                            info_dict=info_dict1,\n",
    "                            regressor_order=['Intercept',\n",
    "                                             'lot',\n",
    "                                             'floor',\n",
    "                                             'bed'])\n",
    "\n",
    "results_table1.add_title('Table 1 - OLS Regressions')\n",
    "\n",
    "print(results_table1)"
   ]
  },
  {
   "cell_type": "code",
   "execution_count": 38,
   "metadata": {},
   "outputs": [],
   "source": [
    "#pandas built-in csv module\n",
    "import csv\n",
    "#three file types supported\n",
    "#results_text1 = results_table.as_latex()\n",
    "#results_text1 = results_table.as_html()\n",
    "results_text1 = results_table1.as_text()\n",
    "#the r converts a normal string to a raw string\n",
    "#'w' is write mode, 'r' is read mode\n",
    "resultFile1 = open(r'C:\\Users\\jfras\\OneDrive\\DataScience\\Python\\table1.csv','w',newline='')\n",
    "resultFile1.write(results_text1)\n",
    "resultFile1.close()\n",
    "#this produces a csv with all columns in one, look at the next block of code\n",
    "\n",
    "#pandas function to read and write the csv doesn't do anything except change the extension\n",
    "read_file = pd.read_csv (r'C:\\Users\\jfras\\OneDrive\\DataScience\\Python\\table1.csv',sep='\\t')\n",
    "read_file.to_excel (r'C:\\Users\\jfras\\OneDrive\\DataScience\\Python\\table1x.xlsx', index = None, header=True)\n",
    "\n",
    "#https://realpython.com/python-csv/#writing-csv-files-with-csv\n",
    "#https://realpython.com/python-csv/#writing-csv-file-from-a-dictionary-with-csv"
   ]
  },
  {
   "cell_type": "code",
   "execution_count": 39,
   "metadata": {},
   "outputs": [],
   "source": [
    "### HERE WE START USING A NEW DATA file, has log of some fields"
   ]
  },
  {
   "cell_type": "code",
   "execution_count": 40,
   "metadata": {},
   "outputs": [
    {
     "data": {
      "text/html": [
       "<div>\n",
       "<style scoped>\n",
       "    .dataframe tbody tr th:only-of-type {\n",
       "        vertical-align: middle;\n",
       "    }\n",
       "\n",
       "    .dataframe tbody tr th {\n",
       "        vertical-align: top;\n",
       "    }\n",
       "\n",
       "    .dataframe thead th {\n",
       "        text-align: right;\n",
       "    }\n",
       "</style>\n",
       "<table border=\"1\" class=\"dataframe\">\n",
       "  <thead>\n",
       "    <tr style=\"text-align: right;\">\n",
       "      <th></th>\n",
       "      <th>price</th>\n",
       "      <th>assess</th>\n",
       "      <th>bdrms</th>\n",
       "      <th>lotsize</th>\n",
       "      <th>sqrft</th>\n",
       "      <th>colonial</th>\n",
       "      <th>lprice</th>\n",
       "      <th>lassess</th>\n",
       "      <th>llotsize</th>\n",
       "      <th>lsqrft</th>\n",
       "    </tr>\n",
       "  </thead>\n",
       "  <tbody>\n",
       "    <tr>\n",
       "      <th>0</th>\n",
       "      <td>300.0</td>\n",
       "      <td>349.100006</td>\n",
       "      <td>4</td>\n",
       "      <td>6126.0</td>\n",
       "      <td>2438</td>\n",
       "      <td>1</td>\n",
       "      <td>5.703783</td>\n",
       "      <td>5.855359</td>\n",
       "      <td>8.720297</td>\n",
       "      <td>7.798934</td>\n",
       "    </tr>\n",
       "    <tr>\n",
       "      <th>1</th>\n",
       "      <td>370.0</td>\n",
       "      <td>351.500000</td>\n",
       "      <td>3</td>\n",
       "      <td>9903.0</td>\n",
       "      <td>2076</td>\n",
       "      <td>1</td>\n",
       "      <td>5.913503</td>\n",
       "      <td>5.862210</td>\n",
       "      <td>9.200593</td>\n",
       "      <td>7.638198</td>\n",
       "    </tr>\n",
       "    <tr>\n",
       "      <th>2</th>\n",
       "      <td>191.0</td>\n",
       "      <td>217.699997</td>\n",
       "      <td>3</td>\n",
       "      <td>5200.0</td>\n",
       "      <td>1374</td>\n",
       "      <td>0</td>\n",
       "      <td>5.252274</td>\n",
       "      <td>5.383118</td>\n",
       "      <td>8.556414</td>\n",
       "      <td>7.225482</td>\n",
       "    </tr>\n",
       "    <tr>\n",
       "      <th>3</th>\n",
       "      <td>195.0</td>\n",
       "      <td>231.800003</td>\n",
       "      <td>3</td>\n",
       "      <td>4600.0</td>\n",
       "      <td>1448</td>\n",
       "      <td>1</td>\n",
       "      <td>5.273000</td>\n",
       "      <td>5.445875</td>\n",
       "      <td>8.433811</td>\n",
       "      <td>7.277938</td>\n",
       "    </tr>\n",
       "    <tr>\n",
       "      <th>4</th>\n",
       "      <td>373.0</td>\n",
       "      <td>319.100006</td>\n",
       "      <td>4</td>\n",
       "      <td>6095.0</td>\n",
       "      <td>2514</td>\n",
       "      <td>1</td>\n",
       "      <td>5.921578</td>\n",
       "      <td>5.765504</td>\n",
       "      <td>8.715224</td>\n",
       "      <td>7.829630</td>\n",
       "    </tr>\n",
       "  </tbody>\n",
       "</table>\n",
       "</div>"
      ],
      "text/plain": [
       "   price      assess  bdrms  lotsize  sqrft  colonial    lprice   lassess  \\\n",
       "0  300.0  349.100006      4   6126.0   2438         1  5.703783  5.855359   \n",
       "1  370.0  351.500000      3   9903.0   2076         1  5.913503  5.862210   \n",
       "2  191.0  217.699997      3   5200.0   1374         0  5.252274  5.383118   \n",
       "3  195.0  231.800003      3   4600.0   1448         1  5.273000  5.445875   \n",
       "4  373.0  319.100006      4   6095.0   2514         1  5.921578  5.765504   \n",
       "\n",
       "   llotsize    lsqrft  \n",
       "0  8.720297  7.798934  \n",
       "1  9.200593  7.638198  \n",
       "2  8.556414  7.225482  \n",
       "3  8.433811  7.277938  \n",
       "4  8.715224  7.829630  "
      ]
     },
     "execution_count": 40,
     "metadata": {},
     "output_type": "execute_result"
    }
   ],
   "source": [
    "hprice1data = 'C:/Users/jfras/OneDrive/UND/534AppliedEcon/Datasets/hprice1.dta'\n",
    "#make sure you preserve data types, otherwise it all comes in as strings\n",
    "housedata2 = pd.read_stata(hprice1data, preserve_dtypes=True)\n",
    "df20 = pd.DataFrame(housedata2)\n",
    "#take a look at the data frame\n",
    "df20.head()\n",
    "#df20.shape"
   ]
  },
  {
   "cell_type": "code",
   "execution_count": 41,
   "metadata": {},
   "outputs": [
    {
     "name": "stdout",
     "output_type": "stream",
     "text": [
      "Check your data Datatypes after import\n",
      "price       float32\n",
      "assess      float32\n",
      "bdrms          int8\n",
      "lotsize     float32\n",
      "sqrft         int16\n",
      "colonial       int8\n",
      "lprice      float32\n",
      "lassess     float32\n",
      "llotsize    float32\n",
      "lsqrft      float32\n",
      "dtype: object\n"
     ]
    }
   ],
   "source": [
    "print('Check your data Datatypes after import')\n",
    "print(df20.dtypes)\n",
    "#if you see any ojbect data types, go back up to prior cell and change them to strings\n",
    "#look in the prior cell where 'status' and 'school' were changed to strings"
   ]
  },
  {
   "cell_type": "code",
   "execution_count": 42,
   "metadata": {},
   "outputs": [
    {
     "name": "stdout",
     "output_type": "stream",
     "text": [
      "                            OLS Regression Results                            \n",
      "==============================================================================\n",
      "Dep. Variable:             df20.price   R-squared:                       0.672\n",
      "Model:                            OLS   Adj. R-squared:                  0.661\n",
      "Method:                 Least Squares   F-statistic:                     57.46\n",
      "Date:                Sun, 11 Oct 2020   Prob (F-statistic):           2.70e-20\n",
      "Time:                        09:36:44   Log-Likelihood:                -482.88\n",
      "No. Observations:                  88   AIC:                             973.8\n",
      "Df Residuals:                      84   BIC:                             983.7\n",
      "Df Model:                           3                                         \n",
      "Covariance Type:            nonrobust                                         \n",
      "================================================================================\n",
      "                   coef    std err          t      P>|t|      [0.025      0.975]\n",
      "--------------------------------------------------------------------------------\n",
      "Intercept      -21.7703     29.475     -0.739      0.462     -80.385      36.844\n",
      "df20.lotsize     0.0021      0.001      3.220      0.002       0.001       0.003\n",
      "df20.sqrft       0.1228      0.013      9.275      0.000       0.096       0.149\n",
      "df20.bdrms      13.8525      9.010      1.537      0.128      -4.065      31.770\n",
      "==============================================================================\n",
      "Omnibus:                       20.398   Durbin-Watson:                   2.110\n",
      "Prob(Omnibus):                  0.000   Jarque-Bera (JB):               32.278\n",
      "Skew:                           0.961   Prob(JB):                     9.79e-08\n",
      "Kurtosis:                       5.261   Cond. No.                     6.41e+04\n",
      "==============================================================================\n",
      "\n",
      "Notes:\n",
      "[1] Standard Errors assume that the covariance matrix of the errors is correctly specified.\n",
      "[2] The condition number is large, 6.41e+04. This might indicate that there are\n",
      "strong multicollinearity or other numerical problems.\n"
     ]
    }
   ],
   "source": [
    "#regress price on lotsize, square feet, bedrooms\n",
    "expr20 = 'df20.price ~ df20.lotsize + df20.sqrft + df20.bdrms'\n",
    "lm20 = ols(expr20, df20).fit()\n",
    "print(lm20.summary())"
   ]
  },
  {
   "cell_type": "code",
   "execution_count": 43,
   "metadata": {},
   "outputs": [
    {
     "name": "stdout",
     "output_type": "stream",
     "text": [
      "residuals()\n",
      " 0    -45.639765\n",
      "1     74.848732\n",
      "2     -8.236558\n",
      "3    -12.081520\n",
      "4     18.093192\n",
      "        ...    \n",
      "83    37.147186\n",
      "84    -6.402439\n",
      "85   -23.651448\n",
      "86    54.418366\n",
      "87   -19.683427\n",
      "Length: 88, dtype: float64\n"
     ]
    }
   ],
   "source": [
    "print(\"residuals()\\n\",lm20.resid)"
   ]
  },
  {
   "cell_type": "code",
   "execution_count": 44,
   "metadata": {},
   "outputs": [
    {
     "name": "stdout",
     "output_type": "stream",
     "text": [
      "predicted value()\n",
      " 0     345.639765\n",
      "1     295.151268\n",
      "2     199.236558\n",
      "3     207.081520\n",
      "4     354.906808\n",
      "         ...    \n",
      "83    257.852814\n",
      "84    242.402439\n",
      "85    226.151448\n",
      "86    164.581634\n",
      "87    261.683427\n",
      "Length: 88, dtype: float64\n"
     ]
    }
   ],
   "source": [
    "print(\"predicted value()\\n\",lm20.fittedvalues)"
   ]
  },
  {
   "cell_type": "code",
   "execution_count": 45,
   "metadata": {},
   "outputs": [
    {
     "name": "stdout",
     "output_type": "stream",
     "text": [
      "lotsize     float32\n",
      "sqrft       float32\n",
      "bdrms       float32\n",
      "constant      int64\n",
      "dtype: object\n"
     ]
    }
   ],
   "source": [
    "#from hprice1.dta\n",
    "#setup 3 variables as a dataframe of independent variables for later use\n",
    "exogdata21 = pd.read_stata(hprice1data,columns=['lotsize','sqrft','bdrms'],preserve_dtypes=True).values\n",
    "#X = pd.read_stata(hpv10data, preserve_dtypes=True)\n",
    "X21 = pd.DataFrame(exogdata21)\n",
    "X21.columns =['lotsize','sqrft','bdrms']\n",
    "X21[\"constant\"]=1\n",
    "X21.shape\n",
    "#print(X)\n",
    "X21.columns.values\n",
    "#X21.head()\n",
    "print(X21.dtypes)"
   ]
  },
  {
   "cell_type": "code",
   "execution_count": 46,
   "metadata": {},
   "outputs": [
    {
     "name": "stdout",
     "output_type": "stream",
     "text": [
      "{'LM Statistic': 33.73165771109831, 'LM-Test p-value': 9.952939773734514e-05, 'F-Statistic': 5.386953445894576, 'F-Test p-value': 1.012938832390123e-05}\n"
     ]
    }
   ],
   "source": [
    "white_test2 = het_white(lm20.resid,X21)\n",
    "labels = ['LM Statistic', 'LM-Test p-value', 'F-Statistic','F-Test p-value']\n",
    "print(dict(zip(labels, white_test2)))"
   ]
  },
  {
   "cell_type": "code",
   "execution_count": 47,
   "metadata": {},
   "outputs": [],
   "source": [
    "#now do a regression using logs"
   ]
  },
  {
   "cell_type": "code",
   "execution_count": 48,
   "metadata": {},
   "outputs": [
    {
     "name": "stdout",
     "output_type": "stream",
     "text": [
      "                            OLS Regression Results                            \n",
      "==============================================================================\n",
      "Dep. Variable:            df20.lprice   R-squared:                       0.643\n",
      "Model:                            OLS   Adj. R-squared:                  0.630\n",
      "Method:                 Least Squares   F-statistic:                     50.42\n",
      "Date:                Sun, 11 Oct 2020   Prob (F-statistic):           9.74e-19\n",
      "Time:                        09:36:47   Log-Likelihood:                 25.861\n",
      "No. Observations:                  88   AIC:                            -43.72\n",
      "Df Residuals:                      84   BIC:                            -33.81\n",
      "Df Model:                           3                                         \n",
      "Covariance Type:            nonrobust                                         \n",
      "=================================================================================\n",
      "                    coef    std err          t      P>|t|      [0.025      0.975]\n",
      "---------------------------------------------------------------------------------\n",
      "Intercept        -1.2970      0.651     -1.992      0.050      -2.592      -0.002\n",
      "df20.llotsize     0.1680      0.038      4.388      0.000       0.092       0.244\n",
      "df20.lsqrft       0.7002      0.093      7.540      0.000       0.516       0.885\n",
      "df20.bdrms        0.0370      0.028      1.342      0.183      -0.018       0.092\n",
      "==============================================================================\n",
      "Omnibus:                       12.060   Durbin-Watson:                   2.089\n",
      "Prob(Omnibus):                  0.002   Jarque-Bera (JB):               34.889\n",
      "Skew:                          -0.188   Prob(JB):                     2.65e-08\n",
      "Kurtosis:                       6.062   Cond. No.                         410.\n",
      "==============================================================================\n",
      "\n",
      "Notes:\n",
      "[1] Standard Errors assume that the covariance matrix of the errors is correctly specified.\n"
     ]
    }
   ],
   "source": [
    "#regress price on lotsize, square feet, bedrooms\n",
    "expr30 = 'df20.lprice ~ df20.llotsize + df20.lsqrft + df20.bdrms'\n",
    "lm30 = ols(expr30, df20).fit()\n",
    "print(lm30.summary())"
   ]
  },
  {
   "cell_type": "code",
   "execution_count": 49,
   "metadata": {},
   "outputs": [
    {
     "name": "stdout",
     "output_type": "stream",
     "text": [
      "log lotsize    float32\n",
      "log sqrft      float32\n",
      "bdrms          float32\n",
      "constant         int64\n",
      "dtype: object\n"
     ]
    }
   ],
   "source": [
    "#from hprice1.dta\n",
    "#setup 3 variables as a dataframe of independent variables for later use\n",
    "exogdata31 = pd.read_stata(hprice1data,columns=['llotsize','lsqrft','bdrms'],preserve_dtypes=True).values\n",
    "#X = pd.read_stata(hpv10data, preserve_dtypes=True)\n",
    "X31 = pd.DataFrame(exogdata31)\n",
    "X31.columns =['log lotsize','log sqrft','bdrms']\n",
    "X31[\"constant\"]=1\n",
    "X31.shape\n",
    "#print(X)\n",
    "X31.columns.values\n",
    "#X31.head()\n",
    "print(X31.dtypes)"
   ]
  },
  {
   "cell_type": "code",
   "execution_count": 50,
   "metadata": {},
   "outputs": [
    {
     "name": "stdout",
     "output_type": "stream",
     "text": [
      "{'LM Statistic': 9.549448521079306, 'LM-Test p-value': 0.3881743289213484, 'F-Statistic': 1.0549560917353784, 'F-Test p-value': 0.4053127292219931}\n"
     ]
    }
   ],
   "source": [
    "white_test3 = het_white(lm30.resid,X31)\n",
    "labels = ['LM Statistic', 'LM-Test p-value', 'F-Statistic','F-Test p-value']\n",
    "print(dict(zip(labels, white_test3)))"
   ]
  },
  {
   "cell_type": "code",
   "execution_count": 51,
   "metadata": {},
   "outputs": [
    {
     "name": "stdout",
     "output_type": "stream",
     "text": [
      "                            OLS Regression Results                            \n",
      "==============================================================================\n",
      "Dep. Variable:             df20.price   R-squared:                       0.672\n",
      "Model:                            OLS   Adj. R-squared:                  0.661\n",
      "Method:                 Least Squares   F-statistic:                     23.72\n",
      "Date:                Sun, 11 Oct 2020   Prob (F-statistic):           3.25e-11\n",
      "Time:                        09:36:48   Log-Likelihood:                -482.88\n",
      "No. Observations:                  88   AIC:                             973.8\n",
      "Df Residuals:                      84   BIC:                             983.7\n",
      "Df Model:                           3                                         \n",
      "Covariance Type:                  HC1                                         \n",
      "================================================================================\n",
      "                   coef    std err          z      P>|z|      [0.025      0.975]\n",
      "--------------------------------------------------------------------------------\n",
      "Intercept      -21.7703     37.138     -0.586      0.558     -94.560      51.019\n",
      "df20.lotsize     0.0021      0.001      1.652      0.098      -0.000       0.005\n",
      "df20.sqrft       0.1228      0.018      6.927      0.000       0.088       0.158\n",
      "df20.bdrms      13.8525      8.479      1.634      0.102      -2.765      30.470\n",
      "==============================================================================\n",
      "Omnibus:                       20.398   Durbin-Watson:                   2.110\n",
      "Prob(Omnibus):                  0.000   Jarque-Bera (JB):               32.278\n",
      "Skew:                           0.961   Prob(JB):                     9.79e-08\n",
      "Kurtosis:                       5.261   Cond. No.                     6.41e+04\n",
      "==============================================================================\n",
      "\n",
      "Notes:\n",
      "[1] Standard Errors are heteroscedasticity robust (HC1)\n",
      "[2] The condition number is large, 6.41e+04. This might indicate that there are\n",
      "strong multicollinearity or other numerical problems.\n"
     ]
    }
   ],
   "source": [
    "#now do a regression using robust standard errors\n",
    "#regress price on lotsize, square feet, bedrooms\n",
    "expr40 = 'df20.price ~ df20.lotsize + df20.sqrft + df20.bdrms'\n",
    "lm40 = ols(expr40, df20).fit(cov_type='HC1')\n",
    "print(lm40.summary())\n",
    "\n",
    "#HC1 applies a degrees of freedom-based correction, (n−1)/(n−k) \n",
    "#where n is the number of observations and k is the number of \n",
    "#explanatory or predictor variables in the model.\n",
    "#https://www.statsmodels.org/devel/generated/statsmodels.regression.linear_model.RegressionResults.get_robustcov_results.html#statsmodels.regression.linear_model.RegressionResults.get_robustcov_results"
   ]
  },
  {
   "cell_type": "code",
   "execution_count": 52,
   "metadata": {},
   "outputs": [],
   "source": [
    "### Applying GLS ###"
   ]
  },
  {
   "cell_type": "code",
   "execution_count": 53,
   "metadata": {},
   "outputs": [
    {
     "name": "stdout",
     "output_type": "stream",
     "text": [
      "residuals()\n",
      " 0    -45.639765\n",
      "1     74.848732\n",
      "2     -8.236558\n",
      "3    -12.081520\n",
      "4     18.093192\n",
      "        ...    \n",
      "83    37.147186\n",
      "84    -6.402439\n",
      "85   -23.651448\n",
      "86    54.418366\n",
      "87   -19.683427\n",
      "Length: 88, dtype: float64\n",
      "predicted value()\n",
      " 0     345.639765\n",
      "1     295.151268\n",
      "2     199.236558\n",
      "3     207.081520\n",
      "4     354.906808\n",
      "         ...    \n",
      "83    257.852814\n",
      "84    242.402439\n",
      "85    226.151448\n",
      "86    164.581634\n",
      "87    261.683427\n",
      "Length: 88, dtype: float64\n"
     ]
    }
   ],
   "source": [
    "#going back to the df20 dataframe (from the hprice1.dta dataset)\n",
    "#we repeat the lm1 model residuals and predicted values\n",
    "print(\"residuals()\\n\",lm20.resid)\n",
    "print(\"predicted value()\\n\",lm20.fittedvalues)"
   ]
  },
  {
   "cell_type": "code",
   "execution_count": 54,
   "metadata": {},
   "outputs": [
    {
     "data": {
      "text/html": [
       "<div>\n",
       "<style scoped>\n",
       "    .dataframe tbody tr th:only-of-type {\n",
       "        vertical-align: middle;\n",
       "    }\n",
       "\n",
       "    .dataframe tbody tr th {\n",
       "        vertical-align: top;\n",
       "    }\n",
       "\n",
       "    .dataframe thead th {\n",
       "        text-align: right;\n",
       "    }\n",
       "</style>\n",
       "<table border=\"1\" class=\"dataframe\">\n",
       "  <thead>\n",
       "    <tr style=\"text-align: right;\">\n",
       "      <th></th>\n",
       "      <th>price</th>\n",
       "      <th>assess</th>\n",
       "      <th>bdrms</th>\n",
       "      <th>lotsize</th>\n",
       "      <th>sqrft</th>\n",
       "      <th>colonial</th>\n",
       "      <th>lprice</th>\n",
       "      <th>lassess</th>\n",
       "      <th>llotsize</th>\n",
       "      <th>lsqrft</th>\n",
       "    </tr>\n",
       "  </thead>\n",
       "  <tbody>\n",
       "    <tr>\n",
       "      <th>0</th>\n",
       "      <td>300.0</td>\n",
       "      <td>349.100006</td>\n",
       "      <td>4</td>\n",
       "      <td>6126.0</td>\n",
       "      <td>2438</td>\n",
       "      <td>1</td>\n",
       "      <td>5.703783</td>\n",
       "      <td>5.855359</td>\n",
       "      <td>8.720297</td>\n",
       "      <td>7.798934</td>\n",
       "    </tr>\n",
       "    <tr>\n",
       "      <th>1</th>\n",
       "      <td>370.0</td>\n",
       "      <td>351.500000</td>\n",
       "      <td>3</td>\n",
       "      <td>9903.0</td>\n",
       "      <td>2076</td>\n",
       "      <td>1</td>\n",
       "      <td>5.913503</td>\n",
       "      <td>5.862210</td>\n",
       "      <td>9.200593</td>\n",
       "      <td>7.638198</td>\n",
       "    </tr>\n",
       "    <tr>\n",
       "      <th>2</th>\n",
       "      <td>191.0</td>\n",
       "      <td>217.699997</td>\n",
       "      <td>3</td>\n",
       "      <td>5200.0</td>\n",
       "      <td>1374</td>\n",
       "      <td>0</td>\n",
       "      <td>5.252274</td>\n",
       "      <td>5.383118</td>\n",
       "      <td>8.556414</td>\n",
       "      <td>7.225482</td>\n",
       "    </tr>\n",
       "    <tr>\n",
       "      <th>3</th>\n",
       "      <td>195.0</td>\n",
       "      <td>231.800003</td>\n",
       "      <td>3</td>\n",
       "      <td>4600.0</td>\n",
       "      <td>1448</td>\n",
       "      <td>1</td>\n",
       "      <td>5.273000</td>\n",
       "      <td>5.445875</td>\n",
       "      <td>8.433811</td>\n",
       "      <td>7.277938</td>\n",
       "    </tr>\n",
       "    <tr>\n",
       "      <th>4</th>\n",
       "      <td>373.0</td>\n",
       "      <td>319.100006</td>\n",
       "      <td>4</td>\n",
       "      <td>6095.0</td>\n",
       "      <td>2514</td>\n",
       "      <td>1</td>\n",
       "      <td>5.921578</td>\n",
       "      <td>5.765504</td>\n",
       "      <td>8.715224</td>\n",
       "      <td>7.829630</td>\n",
       "    </tr>\n",
       "  </tbody>\n",
       "</table>\n",
       "</div>"
      ],
      "text/plain": [
       "   price      assess  bdrms  lotsize  sqrft  colonial    lprice   lassess  \\\n",
       "0  300.0  349.100006      4   6126.0   2438         1  5.703783  5.855359   \n",
       "1  370.0  351.500000      3   9903.0   2076         1  5.913503  5.862210   \n",
       "2  191.0  217.699997      3   5200.0   1374         0  5.252274  5.383118   \n",
       "3  195.0  231.800003      3   4600.0   1448         1  5.273000  5.445875   \n",
       "4  373.0  319.100006      4   6095.0   2514         1  5.921578  5.765504   \n",
       "\n",
       "   llotsize    lsqrft  \n",
       "0  8.720297  7.798934  \n",
       "1  9.200593  7.638198  \n",
       "2  8.556414  7.225482  \n",
       "3  8.433811  7.277938  \n",
       "4  8.715224  7.829630  "
      ]
     },
     "execution_count": 54,
     "metadata": {},
     "output_type": "execute_result"
    }
   ],
   "source": [
    "#back to dataframe20 (df20)\n",
    "df20.head()"
   ]
  },
  {
   "cell_type": "code",
   "execution_count": 55,
   "metadata": {},
   "outputs": [],
   "source": [
    "#don't need to rerun model as we do in STATA"
   ]
  },
  {
   "cell_type": "code",
   "execution_count": 56,
   "metadata": {},
   "outputs": [
    {
     "data": {
      "text/html": [
       "<div>\n",
       "<style scoped>\n",
       "    .dataframe tbody tr th:only-of-type {\n",
       "        vertical-align: middle;\n",
       "    }\n",
       "\n",
       "    .dataframe tbody tr th {\n",
       "        vertical-align: top;\n",
       "    }\n",
       "\n",
       "    .dataframe thead th {\n",
       "        text-align: right;\n",
       "    }\n",
       "</style>\n",
       "<table border=\"1\" class=\"dataframe\">\n",
       "  <thead>\n",
       "    <tr style=\"text-align: right;\">\n",
       "      <th></th>\n",
       "      <th>price</th>\n",
       "      <th>assess</th>\n",
       "      <th>bdrms</th>\n",
       "      <th>lotsize</th>\n",
       "      <th>sqrft</th>\n",
       "      <th>colonial</th>\n",
       "      <th>lprice</th>\n",
       "      <th>lassess</th>\n",
       "      <th>llotsize</th>\n",
       "      <th>lsqrft</th>\n",
       "      <th>yhat</th>\n",
       "      <th>uhat</th>\n",
       "      <th>uhat_2</th>\n",
       "    </tr>\n",
       "  </thead>\n",
       "  <tbody>\n",
       "    <tr>\n",
       "      <th>0</th>\n",
       "      <td>300.0</td>\n",
       "      <td>349.100006</td>\n",
       "      <td>4</td>\n",
       "      <td>6126.0</td>\n",
       "      <td>2438</td>\n",
       "      <td>1</td>\n",
       "      <td>5.703783</td>\n",
       "      <td>5.855359</td>\n",
       "      <td>8.720297</td>\n",
       "      <td>7.798934</td>\n",
       "      <td>345.639765</td>\n",
       "      <td>-45.639765</td>\n",
       "      <td>2082.988142</td>\n",
       "    </tr>\n",
       "    <tr>\n",
       "      <th>1</th>\n",
       "      <td>370.0</td>\n",
       "      <td>351.500000</td>\n",
       "      <td>3</td>\n",
       "      <td>9903.0</td>\n",
       "      <td>2076</td>\n",
       "      <td>1</td>\n",
       "      <td>5.913503</td>\n",
       "      <td>5.862210</td>\n",
       "      <td>9.200593</td>\n",
       "      <td>7.638198</td>\n",
       "      <td>295.151268</td>\n",
       "      <td>74.848732</td>\n",
       "      <td>5602.332683</td>\n",
       "    </tr>\n",
       "    <tr>\n",
       "      <th>2</th>\n",
       "      <td>191.0</td>\n",
       "      <td>217.699997</td>\n",
       "      <td>3</td>\n",
       "      <td>5200.0</td>\n",
       "      <td>1374</td>\n",
       "      <td>0</td>\n",
       "      <td>5.252274</td>\n",
       "      <td>5.383118</td>\n",
       "      <td>8.556414</td>\n",
       "      <td>7.225482</td>\n",
       "      <td>199.236558</td>\n",
       "      <td>-8.236558</td>\n",
       "      <td>67.840885</td>\n",
       "    </tr>\n",
       "    <tr>\n",
       "      <th>3</th>\n",
       "      <td>195.0</td>\n",
       "      <td>231.800003</td>\n",
       "      <td>3</td>\n",
       "      <td>4600.0</td>\n",
       "      <td>1448</td>\n",
       "      <td>1</td>\n",
       "      <td>5.273000</td>\n",
       "      <td>5.445875</td>\n",
       "      <td>8.433811</td>\n",
       "      <td>7.277938</td>\n",
       "      <td>207.081520</td>\n",
       "      <td>-12.081520</td>\n",
       "      <td>145.963115</td>\n",
       "    </tr>\n",
       "    <tr>\n",
       "      <th>4</th>\n",
       "      <td>373.0</td>\n",
       "      <td>319.100006</td>\n",
       "      <td>4</td>\n",
       "      <td>6095.0</td>\n",
       "      <td>2514</td>\n",
       "      <td>1</td>\n",
       "      <td>5.921578</td>\n",
       "      <td>5.765504</td>\n",
       "      <td>8.715224</td>\n",
       "      <td>7.829630</td>\n",
       "      <td>354.906808</td>\n",
       "      <td>18.093192</td>\n",
       "      <td>327.363594</td>\n",
       "    </tr>\n",
       "  </tbody>\n",
       "</table>\n",
       "</div>"
      ],
      "text/plain": [
       "   price      assess  bdrms  lotsize  sqrft  colonial    lprice   lassess  \\\n",
       "0  300.0  349.100006      4   6126.0   2438         1  5.703783  5.855359   \n",
       "1  370.0  351.500000      3   9903.0   2076         1  5.913503  5.862210   \n",
       "2  191.0  217.699997      3   5200.0   1374         0  5.252274  5.383118   \n",
       "3  195.0  231.800003      3   4600.0   1448         1  5.273000  5.445875   \n",
       "4  373.0  319.100006      4   6095.0   2514         1  5.921578  5.765504   \n",
       "\n",
       "   llotsize    lsqrft        yhat       uhat       uhat_2  \n",
       "0  8.720297  7.798934  345.639765 -45.639765  2082.988142  \n",
       "1  9.200593  7.638198  295.151268  74.848732  5602.332683  \n",
       "2  8.556414  7.225482  199.236558  -8.236558    67.840885  \n",
       "3  8.433811  7.277938  207.081520 -12.081520   145.963115  \n",
       "4  8.715224  7.829630  354.906808  18.093192   327.363594  "
      ]
     },
     "execution_count": 56,
     "metadata": {},
     "output_type": "execute_result"
    }
   ],
   "source": [
    "#add predicted value, residual and residual squared to df20\n",
    "df20['yhat'] = lm20.fittedvalues\n",
    "df20['uhat'] = lm20.resid\n",
    "df20['uhat_2'] = df20.uhat * df20.uhat\n",
    "#df20.shape\n",
    "#if you want to look a visual of dataframe at this point\n",
    "df20.head()"
   ]
  },
  {
   "cell_type": "code",
   "execution_count": 57,
   "metadata": {},
   "outputs": [
    {
     "name": "stdout",
     "output_type": "stream",
     "text": [
      "                            OLS Regression Results                            \n",
      "==============================================================================\n",
      "Dep. Variable:            df20.uhat_2   R-squared:                       0.149\n",
      "Model:                            OLS   Adj. R-squared:                  0.129\n",
      "Method:                 Least Squares   F-statistic:                     7.454\n",
      "Date:                Sun, 11 Oct 2020   Prob (F-statistic):            0.00104\n",
      "Time:                        09:36:50   Log-Likelihood:                -897.55\n",
      "No. Observations:                  88   AIC:                             1801.\n",
      "Df Residuals:                      85   BIC:                             1809.\n",
      "Df Model:                           2                                         \n",
      "Covariance Type:            nonrobust                                         \n",
      "================================================================================\n",
      "                   coef    std err          t      P>|t|      [0.025      0.975]\n",
      "--------------------------------------------------------------------------------\n",
      "Intercept    -3439.4489   2580.902     -1.333      0.186   -8570.974    1692.076\n",
      "df20.lotsize     0.2050      0.071      2.888      0.005       0.064       0.346\n",
      "df20.sqrft       2.4870      1.251      1.988      0.050      -0.000       4.974\n",
      "==============================================================================\n",
      "Omnibus:                      113.880   Durbin-Watson:                   2.394\n",
      "Prob(Omnibus):                  0.000   Jarque-Bera (JB):             2139.513\n",
      "Skew:                           4.328   Prob(JB):                         0.00\n",
      "Kurtosis:                      25.551   Cond. No.                     4.98e+04\n",
      "==============================================================================\n",
      "\n",
      "Notes:\n",
      "[1] Standard Errors assume that the covariance matrix of the errors is correctly specified.\n",
      "[2] The condition number is large, 4.98e+04. This might indicate that there are\n",
      "strong multicollinearity or other numerical problems.\n"
     ]
    }
   ],
   "source": [
    "#regress price on lotsize, square feet, bedrooms\n",
    "expr50 = 'df20.uhat_2 ~ df20.lotsize + df20.sqrft'\n",
    "lm50 = ols(expr50, df20).fit()\n",
    "print(lm50.summary())"
   ]
  },
  {
   "cell_type": "code",
   "execution_count": 58,
   "metadata": {},
   "outputs": [
    {
     "name": "stdout",
     "output_type": "stream",
     "text": [
      "predicted value()\n",
      " 0     3879.419476\n",
      "1     3753.283255\n",
      "2     1043.476022\n",
      "3     1104.533898\n",
      "4     4062.076041\n",
      "         ...     \n",
      "83    2370.397146\n",
      "84    2020.253741\n",
      "85    1774.736322\n",
      "86     811.605455\n",
      "87    1987.026824\n",
      "Length: 88, dtype: float64\n"
     ]
    }
   ],
   "source": [
    "print(\"predicted value()\\n\",lm50.fittedvalues)"
   ]
  },
  {
   "cell_type": "code",
   "execution_count": 59,
   "metadata": {},
   "outputs": [],
   "source": [
    "### APPLYING GLS to correct for heteroskedasticity"
   ]
  },
  {
   "cell_type": "code",
   "execution_count": 60,
   "metadata": {},
   "outputs": [
    {
     "data": {
      "text/plain": [
       "(88, 13)"
      ]
     },
     "execution_count": 60,
     "metadata": {},
     "output_type": "execute_result"
    }
   ],
   "source": [
    "#reminder of what out dataframe looks like at this point\n",
    "#from code above\n",
    "#regress price on lot, floor, bed\n",
    "#expr1 = 'y ~ lot + floor + bed'\n",
    "# get residual (uhat)\n",
    "#uhat= y-yhat\n",
    "#df['uhat_2'] = uhat * uhat\n",
    "df20.shape"
   ]
  },
  {
   "cell_type": "code",
   "execution_count": 61,
   "metadata": {},
   "outputs": [
    {
     "data": {
      "text/html": [
       "<div>\n",
       "<style scoped>\n",
       "    .dataframe tbody tr th:only-of-type {\n",
       "        vertical-align: middle;\n",
       "    }\n",
       "\n",
       "    .dataframe tbody tr th {\n",
       "        vertical-align: top;\n",
       "    }\n",
       "\n",
       "    .dataframe thead th {\n",
       "        text-align: right;\n",
       "    }\n",
       "</style>\n",
       "<table border=\"1\" class=\"dataframe\">\n",
       "  <thead>\n",
       "    <tr style=\"text-align: right;\">\n",
       "      <th></th>\n",
       "      <th>price</th>\n",
       "      <th>assess</th>\n",
       "      <th>bdrms</th>\n",
       "      <th>lotsize</th>\n",
       "      <th>sqrft</th>\n",
       "      <th>colonial</th>\n",
       "      <th>lprice</th>\n",
       "      <th>lassess</th>\n",
       "      <th>llotsize</th>\n",
       "      <th>lsqrft</th>\n",
       "      <th>yhat</th>\n",
       "      <th>uhat</th>\n",
       "      <th>uhat_2</th>\n",
       "    </tr>\n",
       "  </thead>\n",
       "  <tbody>\n",
       "    <tr>\n",
       "      <th>83</th>\n",
       "      <td>295.0</td>\n",
       "      <td>318.299988</td>\n",
       "      <td>3</td>\n",
       "      <td>6056.0</td>\n",
       "      <td>1837</td>\n",
       "      <td>1</td>\n",
       "      <td>5.686975</td>\n",
       "      <td>5.762994</td>\n",
       "      <td>8.708805</td>\n",
       "      <td>7.515889</td>\n",
       "      <td>257.852814</td>\n",
       "      <td>37.147186</td>\n",
       "      <td>1379.913396</td>\n",
       "    </tr>\n",
       "    <tr>\n",
       "      <th>84</th>\n",
       "      <td>236.0</td>\n",
       "      <td>259.399994</td>\n",
       "      <td>3</td>\n",
       "      <td>5828.0</td>\n",
       "      <td>1715</td>\n",
       "      <td>0</td>\n",
       "      <td>5.463832</td>\n",
       "      <td>5.558371</td>\n",
       "      <td>8.670429</td>\n",
       "      <td>7.447168</td>\n",
       "      <td>242.402439</td>\n",
       "      <td>-6.402439</td>\n",
       "      <td>40.991222</td>\n",
       "    </tr>\n",
       "    <tr>\n",
       "      <th>85</th>\n",
       "      <td>202.5</td>\n",
       "      <td>258.100006</td>\n",
       "      <td>3</td>\n",
       "      <td>6341.0</td>\n",
       "      <td>1574</td>\n",
       "      <td>0</td>\n",
       "      <td>5.310740</td>\n",
       "      <td>5.553347</td>\n",
       "      <td>8.754792</td>\n",
       "      <td>7.361375</td>\n",
       "      <td>226.151448</td>\n",
       "      <td>-23.651448</td>\n",
       "      <td>559.390998</td>\n",
       "    </tr>\n",
       "    <tr>\n",
       "      <th>86</th>\n",
       "      <td>219.0</td>\n",
       "      <td>232.000000</td>\n",
       "      <td>2</td>\n",
       "      <td>6362.0</td>\n",
       "      <td>1185</td>\n",
       "      <td>0</td>\n",
       "      <td>5.389072</td>\n",
       "      <td>5.446737</td>\n",
       "      <td>8.758098</td>\n",
       "      <td>7.077498</td>\n",
       "      <td>164.581634</td>\n",
       "      <td>54.418366</td>\n",
       "      <td>2961.358538</td>\n",
       "    </tr>\n",
       "    <tr>\n",
       "      <th>87</th>\n",
       "      <td>242.0</td>\n",
       "      <td>252.000000</td>\n",
       "      <td>4</td>\n",
       "      <td>4950.0</td>\n",
       "      <td>1774</td>\n",
       "      <td>1</td>\n",
       "      <td>5.488938</td>\n",
       "      <td>5.529429</td>\n",
       "      <td>8.507143</td>\n",
       "      <td>7.480992</td>\n",
       "      <td>261.683427</td>\n",
       "      <td>-19.683427</td>\n",
       "      <td>387.437299</td>\n",
       "    </tr>\n",
       "  </tbody>\n",
       "</table>\n",
       "</div>"
      ],
      "text/plain": [
       "    price      assess  bdrms  lotsize  sqrft  colonial    lprice   lassess  \\\n",
       "83  295.0  318.299988      3   6056.0   1837         1  5.686975  5.762994   \n",
       "84  236.0  259.399994      3   5828.0   1715         0  5.463832  5.558371   \n",
       "85  202.5  258.100006      3   6341.0   1574         0  5.310740  5.553347   \n",
       "86  219.0  232.000000      2   6362.0   1185         0  5.389072  5.446737   \n",
       "87  242.0  252.000000      4   4950.0   1774         1  5.488938  5.529429   \n",
       "\n",
       "    llotsize    lsqrft        yhat       uhat       uhat_2  \n",
       "83  8.708805  7.515889  257.852814  37.147186  1379.913396  \n",
       "84  8.670429  7.447168  242.402439  -6.402439    40.991222  \n",
       "85  8.754792  7.361375  226.151448 -23.651448   559.390998  \n",
       "86  8.758098  7.077498  164.581634  54.418366  2961.358538  \n",
       "87  8.507143  7.480992  261.683427 -19.683427   387.437299  "
      ]
     },
     "execution_count": 61,
     "metadata": {},
     "output_type": "execute_result"
    }
   ],
   "source": [
    "#reminder of what out dataframe looks like at this point\n",
    "df20.tail()"
   ]
  },
  {
   "cell_type": "code",
   "execution_count": 62,
   "metadata": {},
   "outputs": [
    {
     "name": "stdout",
     "output_type": "stream",
     "text": [
      "                            OLS Regression Results                            \n",
      "==============================================================================\n",
      "Dep. Variable:            df20.uhat_2   R-squared:                       0.149\n",
      "Model:                            OLS   Adj. R-squared:                  0.129\n",
      "Method:                 Least Squares   F-statistic:                     7.454\n",
      "Date:                Sun, 11 Oct 2020   Prob (F-statistic):            0.00104\n",
      "Time:                        09:36:53   Log-Likelihood:                -897.55\n",
      "No. Observations:                  88   AIC:                             1801.\n",
      "Df Residuals:                      85   BIC:                             1809.\n",
      "Df Model:                           2                                         \n",
      "Covariance Type:            nonrobust                                         \n",
      "================================================================================\n",
      "                   coef    std err          t      P>|t|      [0.025      0.975]\n",
      "--------------------------------------------------------------------------------\n",
      "Intercept    -3439.4489   2580.902     -1.333      0.186   -8570.974    1692.076\n",
      "df20.lotsize     0.2050      0.071      2.888      0.005       0.064       0.346\n",
      "df20.sqrft       2.4870      1.251      1.988      0.050      -0.000       4.974\n",
      "==============================================================================\n",
      "Omnibus:                      113.880   Durbin-Watson:                   2.394\n",
      "Prob(Omnibus):                  0.000   Jarque-Bera (JB):             2139.513\n",
      "Skew:                           4.328   Prob(JB):                         0.00\n",
      "Kurtosis:                      25.551   Cond. No.                     4.98e+04\n",
      "==============================================================================\n",
      "\n",
      "Notes:\n",
      "[1] Standard Errors assume that the covariance matrix of the errors is correctly specified.\n",
      "[2] The condition number is large, 4.98e+04. This might indicate that there are\n",
      "strong multicollinearity or other numerical problems.\n"
     ]
    }
   ],
   "source": [
    "expr51 = 'df20.uhat_2 ~ df20.lotsize + df20.sqrft'\n",
    "lm51 = ols(expr51, df20).fit()\n",
    "print(lm51.summary())"
   ]
  },
  {
   "cell_type": "code",
   "execution_count": 63,
   "metadata": {},
   "outputs": [
    {
     "data": {
      "text/plain": [
       "(88, 14)"
      ]
     },
     "execution_count": 63,
     "metadata": {},
     "output_type": "execute_result"
    }
   ],
   "source": [
    "#create the predicted value of y, note: uhat51 is not a residual\n",
    "uhat51_fitted = lm51.predict()\n",
    "#add to the dataframe\n",
    "df20['uhat51_fitted'] = uhat51_fitted\n",
    "#check the dataframe, previously was 13 columns, should have added 1 column for a total of 14\n",
    "df20.shape\n",
    "#df20.tail()"
   ]
  },
  {
   "cell_type": "code",
   "execution_count": 64,
   "metadata": {},
   "outputs": [
    {
     "data": {
      "text/plain": [
       "(88, 19)"
      ]
     },
     "execution_count": 64,
     "metadata": {},
     "output_type": "execute_result"
    }
   ],
   "source": [
    "#using numpy square root function\n",
    "#add to the dataframe\n",
    "df20['price_t'] = df20.price / np.sqrt(df20.uhat51_fitted)\n",
    "df20['lotsize_t'] = df20.lotsize / np.sqrt(df20.uhat51_fitted)\n",
    "df20['sqrft_t'] = df20.sqrft / np.sqrt(df20.uhat51_fitted)\n",
    "df20['bdrms_t'] = df20.bdrms / np.sqrt(df20.uhat51_fitted)\n",
    "df20['const_t'] = 1 / np.sqrt(df20.uhat51_fitted)\n",
    "#check the dataframe, previously was 14 columns, should have added 5 columns for a total of 19\n",
    "df20.shape\n",
    "#df20.tail()"
   ]
  },
  {
   "cell_type": "code",
   "execution_count": 65,
   "metadata": {},
   "outputs": [
    {
     "name": "stdout",
     "output_type": "stream",
     "text": [
      "                                 OLS Regression Results                                \n",
      "=======================================================================================\n",
      "Dep. Variable:           df20.price_t   R-squared (uncentered):                   0.962\n",
      "Model:                            OLS   Adj. R-squared (uncentered):              0.960\n",
      "Method:                 Least Squares   F-statistic:                              534.1\n",
      "Date:                Sun, 11 Oct 2020   Prob (F-statistic):                    7.70e-59\n",
      "Time:                        09:36:54   Log-Likelihood:                         -132.09\n",
      "No. Observations:                  88   AIC:                                      272.2\n",
      "Df Residuals:                      84   BIC:                                      282.1\n",
      "Df Model:                           4                                                  \n",
      "Covariance Type:            nonrobust                                                  \n",
      "==================================================================================\n",
      "                     coef    std err          t      P>|t|      [0.025      0.975]\n",
      "----------------------------------------------------------------------------------\n",
      "df20.lotsize_t     0.0041      0.001      2.956      0.004       0.001       0.007\n",
      "df20.sqrft_t       0.0908      0.015      6.041      0.000       0.061       0.121\n",
      "df20.bdrms_t      10.7260      8.039      1.334      0.186      -5.260      26.712\n",
      "df20.const_t      35.8812     29.840      1.202      0.233     -23.459      95.221\n",
      "==============================================================================\n",
      "Omnibus:                       30.709   Durbin-Watson:                   2.140\n",
      "Prob(Omnibus):                  0.000   Jarque-Bera (JB):              130.845\n",
      "Skew:                           0.943   Prob(JB):                     3.87e-29\n",
      "Kurtosis:                       8.668   Cond. No.                     4.33e+04\n",
      "==============================================================================\n",
      "\n",
      "Notes:\n",
      "[1] R² is computed without centering (uncentered) since the model does not contain a constant.\n",
      "[2] Standard Errors assume that the covariance matrix of the errors is correctly specified.\n",
      "[3] The condition number is large, 4.33e+04. This might indicate that there are\n",
      "strong multicollinearity or other numerical problems.\n"
     ]
    }
   ],
   "source": [
    "#GLS\n",
    "#transform by 1/sqrt(h)\n",
    "#specify no constant with the -1 in the formula\n",
    "expr60 = 'df20.price_t ~ df20.lotsize_t + df20.sqrft_t + df20.bdrms_t + df20.const_t -1'\n",
    "lm60 = ols(expr60, df20).fit(hasconst=None)\n",
    "print(lm60.summary())"
   ]
  },
  {
   "cell_type": "code",
   "execution_count": 66,
   "metadata": {},
   "outputs": [
    {
     "name": "stdout",
     "output_type": "stream",
     "text": [
      "    lotsize   sqrft  bdrms  constant\n",
      "0    6126.0  2438.0    4.0         1\n",
      "1    9903.0  2076.0    3.0         1\n",
      "2    5200.0  1374.0    3.0         1\n",
      "3    4600.0  1448.0    3.0         1\n",
      "4    6095.0  2514.0    4.0         1\n",
      "..      ...     ...    ...       ...\n",
      "83   6056.0  1837.0    3.0         1\n",
      "84   5828.0  1715.0    3.0         1\n",
      "85   6341.0  1574.0    3.0         1\n",
      "86   6362.0  1185.0    2.0         1\n",
      "87   4950.0  1774.0    4.0         1\n",
      "\n",
      "[88 rows x 4 columns]\n",
      "lotsize     float32\n",
      "sqrft       float32\n",
      "bdrms       float32\n",
      "constant      int64\n",
      "dtype: object\n"
     ]
    }
   ],
   "source": [
    "#create X5 data frame for next experiment\n",
    "#from hprice1.dta\n",
    "#setup 3 variables as a dataframe of independent variables for later use\n",
    "exogdata5 = pd.read_stata(hprice1data,columns=['lotsize','sqrft','bdrms'],preserve_dtypes=True).values\n",
    "X5 = pd.read_stata(hpv10data, preserve_dtypes=True)\n",
    "X5 = pd.DataFrame(exogdata5)\n",
    "X5.columns =['lotsize','sqrft','bdrms']\n",
    "X5[\"constant\"]=1\n",
    "X5.shape\n",
    "print(X5)\n",
    "X5.columns.values\n",
    "X5.head()\n",
    "print(X5.dtypes)"
   ]
  },
  {
   "cell_type": "code",
   "execution_count": 67,
   "metadata": {},
   "outputs": [
    {
     "name": "stdout",
     "output_type": "stream",
     "text": [
      "                            GLS Regression Results                            \n",
      "==============================================================================\n",
      "Dep. Variable:                  price   R-squared:                       0.672\n",
      "Model:                            GLS   Adj. R-squared:                  0.661\n",
      "Method:                 Least Squares   F-statistic:                     57.46\n",
      "Date:                Sun, 11 Oct 2020   Prob (F-statistic):           2.70e-20\n",
      "Time:                        09:36:55   Log-Likelihood:                -482.88\n",
      "No. Observations:                  88   AIC:                             973.8\n",
      "Df Residuals:                      84   BIC:                             983.7\n",
      "Df Model:                           3                                         \n",
      "Covariance Type:            nonrobust                                         \n",
      "==============================================================================\n",
      "                 coef    std err          t      P>|t|      [0.025      0.975]\n",
      "------------------------------------------------------------------------------\n",
      "lotsize        0.0021      0.001      3.220      0.002       0.001       0.003\n",
      "sqrft          0.1228      0.013      9.275      0.000       0.096       0.149\n",
      "bdrms         13.8525      9.010      1.537      0.128      -4.065      31.770\n",
      "constant     -21.7703     29.475     -0.739      0.462     -80.385      36.844\n",
      "==============================================================================\n",
      "Omnibus:                       20.398   Durbin-Watson:                   2.110\n",
      "Prob(Omnibus):                  0.000   Jarque-Bera (JB):               32.278\n",
      "Skew:                           0.961   Prob(JB):                     9.79e-08\n",
      "Kurtosis:                       5.261   Cond. No.                     6.41e+04\n",
      "==============================================================================\n",
      "\n",
      "Notes:\n",
      "[1] Standard Errors assume that the covariance matrix of the errors is correctly specified.\n",
      "[2] The condition number is large, 6.41e+04. This might indicate that there are\n",
      "strong multicollinearity or other numerical problems.\n"
     ]
    }
   ],
   "source": [
    "####  compare to statsmodels built in gls method  ###\n",
    "### interesting!!!!, matches OLS with robust in lm40 ###\n",
    "## should be the same as the one above and below ##\n",
    "### GLS using stats models built in \n",
    "#gls_model = sm.GLS(data.endog, data.exog, sigma=sigma)\n",
    "#specify no constant in this regression\n",
    "#gls_model1 = sm.GLS(df20.price, X5)\n",
    "#gls_model1 = sm.GLS(df20.price, X5,hasconst=True)\n",
    "gls_model1 = sm.GLS(df20.price, X5,hasconst=None)\n",
    "gls_results1 = gls_model1.fit()\n",
    "print(gls_results1.summary())"
   ]
  },
  {
   "cell_type": "code",
   "execution_count": 68,
   "metadata": {},
   "outputs": [],
   "source": [
    "#Try df X6, KEEP\n",
    "#create X6 data frame for next experiment\n",
    "#from df20\n",
    "#setup 3 variables as a dataframe of independent variables for later use\n",
    "#X6 = pd.DataFrame((df20),columns =['lotsize_t','sqrft_t','bdrms_t'])\n",
    "#X6[\"constant_t\"]=1\n",
    "#X6.shape\n",
    "#print(X6)\n",
    "#X6.columns.values\n",
    "#X6.head()\n",
    "#print(X6.dtypes)"
   ]
  },
  {
   "cell_type": "code",
   "execution_count": 69,
   "metadata": {},
   "outputs": [],
   "source": [
    "#compare to statsmodels built in gls method\n",
    "### GLS using stats models built in \n",
    "#gls_model = sm.GLS(data.endog, data.exog, sigma=sigma)\n",
    "#specify no constant in this regression\n",
    "#gls_model = sm.GLS(df20.price, X6)\n",
    "#gls_model = sm.GLS(df20.price, X6,hasconst=None)\n",
    "#gls_results = gls_model.fit()\n",
    "#print(gls_results.summary())"
   ]
  },
  {
   "cell_type": "code",
   "execution_count": 70,
   "metadata": {
    "scrolled": true
   },
   "outputs": [
    {
     "name": "stdout",
     "output_type": "stream",
     "text": [
      "                            WLS Regression Results                            \n",
      "==============================================================================\n",
      "Dep. Variable:                  price   R-squared:                       0.484\n",
      "Model:                            WLS   Adj. R-squared:                  0.466\n",
      "Method:                 Least Squares   F-statistic:                     26.26\n",
      "Date:                Sun, 11 Oct 2020   Prob (F-statistic):           4.45e-12\n",
      "Time:                        09:36:57   Log-Likelihood:                -481.20\n",
      "No. Observations:                  88   AIC:                             970.4\n",
      "Df Residuals:                      84   BIC:                             980.3\n",
      "Df Model:                           3                                         \n",
      "Covariance Type:            nonrobust                                         \n",
      "==============================================================================\n",
      "                 coef    std err          t      P>|t|      [0.025      0.975]\n",
      "------------------------------------------------------------------------------\n",
      "lotsize        0.0041      0.001      2.956      0.004       0.001       0.007\n",
      "sqrft          0.0908      0.015      6.041      0.000       0.061       0.121\n",
      "bdrms         10.7260      8.039      1.334      0.186      -5.260      26.712\n",
      "constant      35.8812     29.840      1.202      0.233     -23.459      95.221\n",
      "==============================================================================\n",
      "Omnibus:                       30.709   Durbin-Watson:                   2.140\n",
      "Prob(Omnibus):                  0.000   Jarque-Bera (JB):              130.845\n",
      "Skew:                           0.943   Prob(JB):                     3.87e-29\n",
      "Kurtosis:                       8.668   Cond. No.                     4.33e+04\n",
      "==============================================================================\n",
      "\n",
      "Notes:\n",
      "[1] Standard Errors assume that the covariance matrix of the errors is correctly specified.\n",
      "[2] The condition number is large, 4.33e+04. This might indicate that there are\n",
      "strong multicollinearity or other numerical problems.\n"
     ]
    }
   ],
   "source": [
    "### WLS (weight by 1/h)\n",
    "#h(x)is some function of the explanatory variables in VAR(u|X)=sd*h(x)\n",
    "#goal is to transform an equation with heteroskedastic errors to one with homoskedastic errors\n",
    "#stata uses [aw=1/x] for analytic weights, statsmodels equivalent is supplying weignts in the .fit()\n",
    "#first add the weight to the dataframe\n",
    "#already done in cell ___df20['uhat51_fitted'] = df20.uhat51_fitted\n",
    "wls_model = sm.WLS(df20.price, X5,weights=1./df20.uhat51_fitted)\n",
    "wls_results = wls_model.fit()\n",
    "print(wls_results.summary())"
   ]
  },
  {
   "cell_type": "code",
   "execution_count": 71,
   "metadata": {},
   "outputs": [
    {
     "name": "stdout",
     "output_type": "stream",
     "text": [
      "                              Table 2 - GLS and WLS Regressions\n",
      "==============================================================================================\n",
      "                 Model 20 Model 30 Model 40  Model 50  Model 51 GLS Calc Built in GLS WLS Calc\n",
      "----------------------------------------------------------------------------------------------\n",
      "Intercept        -21.77   -1.30**  -21.77   -3439.45  -3439.45                                \n",
      "                 (29.48)  (0.65)   (37.14)  (2580.90) (2580.90)                               \n",
      "lotsize                                                                  0.00***      0.00*** \n",
      "                                                                         (0.00)       (0.00)  \n",
      "sqrft                                                                    0.12***      0.09*** \n",
      "                                                                         (0.01)       (0.02)  \n",
      "bdrms                                                                    13.85        10.73   \n",
      "                                                                         (9.01)       (8.04)  \n",
      "df20.sqrft_t                                                    0.09***                       \n",
      "                                                                (0.02)                        \n",
      "df20.bdrms       13.85    0.04     13.85                                                      \n",
      "                 (9.01)   (0.03)   (8.48)                                                     \n",
      "df20.bdrms_t                                                    10.73                         \n",
      "                                                                (8.04)                        \n",
      "df20.sqrft       0.12***           0.12***  2.49*     2.49*                                   \n",
      "                 (0.01)            (0.02)   (1.25)    (1.25)                                  \n",
      "df20.lsqrft               0.70***                                                             \n",
      "                          (0.09)                                                              \n",
      "df20.llotsize             0.17***                                                             \n",
      "                          (0.04)                                                              \n",
      "constant                                                                 -21.77       35.88   \n",
      "                                                                         (29.48)      (29.84) \n",
      "df20.lotsize     0.00***           0.00*    0.20***   0.20***                                 \n",
      "                 (0.00)            (0.00)   (0.07)    (0.07)                                  \n",
      "df20.lotsize_t                                                  0.00***                       \n",
      "                                                                (0.00)                        \n",
      "df20.const_t                                                    35.88                         \n",
      "                                                                (29.84)                       \n",
      "R-squared        0.67     0.64     0.67     0.15      0.15      0.96     0.67         0.48    \n",
      "R-squared Adj.   0.66     0.63     0.66     0.13      0.13      0.96     0.66         0.47    \n",
      "R-squared        0.67     0.64     0.67     0.15      0.15      0.96     0.67         0.48    \n",
      "No. observations 88       88       88       88        88        88       88           88      \n",
      "==============================================================================================\n",
      "Standard errors in parentheses.\n",
      "* p<.1, ** p<.05, ***p<.01\n"
     ]
    }
   ],
   "source": [
    "#now we'll collect some of the above regressions and print in an excel table\n",
    "#import the summary_col from the statsmodels library\n",
    "from statsmodels.iolib.summary2 import summary_col\n",
    "#example,dictionary of values to be called, .2f is a float with two decimals, d rounds to integer\n",
    "info_dict1={'R-squared' : lambda x: f\"{x.rsquared:.2f}\",\n",
    "           'No. observations' : lambda x: f\"{int(x.nobs):d}\"}\n",
    "\n",
    "results_table = summary_col(results=[lm20,lm30,lm40,lm50,lm51,lm60,gls_results1,wls_results],\n",
    "                            float_format='%0.2f',\n",
    "                            stars = True,\n",
    "                            model_names=['Model 20',\n",
    "                                         'Model 30',\n",
    "                                         'Model 40',\n",
    "                                         'Model 50',\n",
    "                                         'Model 51',\n",
    "                                         'GLS Calc',\n",
    "                                         'Built in GLS',\n",
    "                                         'WLS Calc'],\n",
    "                            info_dict=info_dict1,\n",
    "                            regressor_order=['Intercept',\n",
    "                                             'lotsize',\n",
    "                                             'sqrft',\n",
    "                                             'bdrms'])\n",
    "\n",
    "results_table.add_title('Table 2 - GLS and WLS Regressions')\n",
    "\n",
    "print(results_table)"
   ]
  },
  {
   "cell_type": "code",
   "execution_count": 72,
   "metadata": {},
   "outputs": [],
   "source": [
    "from pystout import pystout\n",
    "#only statsmodels.ols().fit() will pass in\n",
    "#so you have to exclude the GLS and WLS models\n",
    "#ie lm60,gls_results1,wls_results, have been excluded\n",
    "pystout(models=[lm20,lm30,lm40,lm50,lm51],\n",
    "        file=r'C:\\Users\\jfras\\OneDrive\\DataScience\\Python\\table1a.csv',\n",
    "        addnotes=['Selected models','using pystout'],\n",
    "        digits=2,\n",
    "        #endog_names=['lot', 'floor', 'bed', 'lot_floor', 'lot_bed', 'floor_bed', 'lot_2', 'floor_2', 'bed_2'],\n",
    "        endog_names=True,\n",
    "        #varlabels={'lot':'Lot size cat','floor':'sq feet','bed':'Num bedrooms', \n",
    "        #'lot_floor':'lotcat-sq feet','lot_bed':'lotcat-Num bedrooms','floor_bed':'sq feet-Num bedrooms', \n",
    "        #'lot_2':'lot cat sq','floor_2':'sq feet sq','bed_2':'Num bedrooms sq'},\n",
    "        addrows={'Test':['A','Test','Row','Here','Too']},\n",
    "        mgroups={'OLS':[1,3],'Prep':[4,5], 'GSL':[6,7],'WLS':8},\n",
    "        #modstat={'nobs':'Obs','rsquared_adj':'Adj. R\\sym{2}','fvalue':'F-stat'}\n",
    "        )\n",
    "#this still put everthing in a cell\n",
    "#https://pypi.org/project/pystout/"
   ]
  },
  {
   "cell_type": "code",
   "execution_count": 73,
   "metadata": {},
   "outputs": [
    {
     "data": {
      "text/html": [
       "Table1s: Selected Regressions<br><table style=\"text-align:center\"><tr><td colspan=\"9\" style=\"border-bottom: 1px solid black\"></td></tr><tr><td style=\"text-align:left\"></td><tr><td style=\"text-align:left\"></td><td>(1)</td><td>(2)</td><td>(3)</td><td>(4)</td><td>(5)</td><td>(6)</td><td>(7)</td><td>(8)</td></tr><tr><td colspan=\"9\" style=\"border-bottom: 1px solid black\"></td></tr><tr><td style=\"text-align:left\">Intercept</td><td>-21.77<sup></sup></td><td>-1.30<sup>**</sup></td><td>-21.77<sup></sup></td><td>-3439.45<sup></sup></td><td>-3439.45<sup></sup></td><td></td><td></td><td></td></tr><tr><td style=\"text-align:left\"></td><td>(29.48)</td><td>(0.65)</td><td>(37.14)</td><td>(2580.90)</td><td>(2580.90)</td><td></td><td></td><td></td></tr><tr><td style=\"text-align:left\">bdrms</td><td></td><td></td><td></td><td></td><td></td><td></td><td>13.85<sup></sup></td><td>10.73<sup></sup></td></tr><tr><td style=\"text-align:left\"></td><td></td><td></td><td></td><td></td><td></td><td></td><td>(9.01)</td><td>(8.04)</td></tr><tr><td style=\"text-align:left\">constant</td><td></td><td></td><td></td><td></td><td></td><td></td><td>-21.77<sup></sup></td><td>35.88<sup></sup></td></tr><tr><td style=\"text-align:left\"></td><td></td><td></td><td></td><td></td><td></td><td></td><td>(29.48)</td><td>(29.84)</td></tr><tr><td style=\"text-align:left\">df20.bdrms</td><td>13.85<sup></sup></td><td>0.04<sup></sup></td><td>13.85<sup></sup></td><td></td><td></td><td></td><td></td><td></td></tr><tr><td style=\"text-align:left\"></td><td>(9.01)</td><td>(0.03)</td><td>(8.48)</td><td></td><td></td><td></td><td></td><td></td></tr><tr><td style=\"text-align:left\">df20.bdrms_t</td><td></td><td></td><td></td><td></td><td></td><td>10.73<sup></sup></td><td></td><td></td></tr><tr><td style=\"text-align:left\"></td><td></td><td></td><td></td><td></td><td></td><td>(8.04)</td><td></td><td></td></tr><tr><td style=\"text-align:left\">df20.const_t</td><td></td><td></td><td></td><td></td><td></td><td>35.88<sup></sup></td><td></td><td></td></tr><tr><td style=\"text-align:left\"></td><td></td><td></td><td></td><td></td><td></td><td>(29.84)</td><td></td><td></td></tr><tr><td style=\"text-align:left\">df20.llotsize</td><td></td><td>0.17<sup>***</sup></td><td></td><td></td><td></td><td></td><td></td><td></td></tr><tr><td style=\"text-align:left\"></td><td></td><td>(0.04)</td><td></td><td></td><td></td><td></td><td></td><td></td></tr><tr><td style=\"text-align:left\">df20.lotsize</td><td>0.00<sup>***</sup></td><td></td><td>0.00<sup>*</sup></td><td>0.20<sup>***</sup></td><td>0.20<sup>***</sup></td><td></td><td></td><td></td></tr><tr><td style=\"text-align:left\"></td><td>(0.00)</td><td></td><td>(0.00)</td><td>(0.07)</td><td>(0.07)</td><td></td><td></td><td></td></tr><tr><td style=\"text-align:left\">df20.lotsize_t</td><td></td><td></td><td></td><td></td><td></td><td>0.00<sup>***</sup></td><td></td><td></td></tr><tr><td style=\"text-align:left\"></td><td></td><td></td><td></td><td></td><td></td><td>(0.00)</td><td></td><td></td></tr><tr><td style=\"text-align:left\">df20.lsqrft</td><td></td><td>0.70<sup>***</sup></td><td></td><td></td><td></td><td></td><td></td><td></td></tr><tr><td style=\"text-align:left\"></td><td></td><td>(0.09)</td><td></td><td></td><td></td><td></td><td></td><td></td></tr><tr><td style=\"text-align:left\">df20.sqrft</td><td>0.12<sup>***</sup></td><td></td><td>0.12<sup>***</sup></td><td>2.49<sup>*</sup></td><td>2.49<sup>*</sup></td><td></td><td></td><td></td></tr><tr><td style=\"text-align:left\"></td><td>(0.01)</td><td></td><td>(0.02)</td><td>(1.25)</td><td>(1.25)</td><td></td><td></td><td></td></tr><tr><td style=\"text-align:left\">df20.sqrft_t</td><td></td><td></td><td></td><td></td><td></td><td>0.09<sup>***</sup></td><td></td><td></td></tr><tr><td style=\"text-align:left\"></td><td></td><td></td><td></td><td></td><td></td><td>(0.02)</td><td></td><td></td></tr><tr><td style=\"text-align:left\">lotsize</td><td></td><td></td><td></td><td></td><td></td><td></td><td>0.00<sup>***</sup></td><td>0.00<sup>***</sup></td></tr><tr><td style=\"text-align:left\"></td><td></td><td></td><td></td><td></td><td></td><td></td><td>(0.00)</td><td>(0.00)</td></tr><tr><td style=\"text-align:left\">sqrft</td><td></td><td></td><td></td><td></td><td></td><td></td><td>0.12<sup>***</sup></td><td>0.09<sup>***</sup></td></tr><tr><td style=\"text-align:left\"></td><td></td><td></td><td></td><td></td><td></td><td></td><td>(0.01)</td><td>(0.02)</td></tr><td colspan=\"9\" style=\"border-bottom: 1px solid black\"></td></tr><tr><td style=\"text-align: left\">Observations</td><td>88</td><td>88</td><td>88</td><td>88</td><td>88</td><td>88</td><td>88</td><td>88</td></tr><tr><td style=\"text-align: left\">R<sup>2</sup></td><td>0.67</td><td>0.64</td><td>0.67</td><td>0.15</td><td>0.15</td><td>0.96</td><td>0.67</td><td>0.48</td></tr><tr><td style=\"text-align: left\">Adjusted R<sup>2</sup></td><td>0.66</td><td>0.63</td><td>0.66</td><td>0.13</td><td>0.13</td><td>0.96</td><td>0.66</td><td>0.47</td></tr><tr><td style=\"text-align: left\">Residual Std. Error</td><td>59.83 (df=84)</td><td>0.18 (df=84)</td><td>59.83 (df=84)</td><td>6620.27 (df=85)</td><td>6620.27 (df=85)</td><td>1.11 (df=84)</td><td>59.83 (df=84)</td><td>1.11 (df=84)</td></tr><tr><td style=\"text-align: left\">F Statistic</td><td>57.46<sup>***</sup> (df=3; 84)</td><td>50.42<sup>***</sup> (df=3; 84)</td><td>23.72<sup>***</sup> (df=3; 84)</td><td>7.45<sup>***</sup> (df=2; 85)</td><td>7.45<sup>***</sup> (df=2; 85)</td><td>534.10<sup>***</sup> (df=4; 84)</td><td>57.46<sup>***</sup> (df=3; 84)</td><td>26.26<sup>***</sup> (df=3; 84)</td></tr><tr><td colspan=\"9\" style=\"border-bottom: 1px solid black\"></td></tr><tr><td style=\"text-align: left\">Note:</td>\n",
       " <td colspan=\"8\" style=\"text-align: right\">\n",
       "  <sup>*</sup>p&lt;0.1;\n",
       "  <sup>**</sup>p&lt;0.05;\n",
       "  <sup>***</sup>p&lt;0.01\n",
       " </td></tr></table>"
      ],
      "text/plain": [
       "<stargazer.stargazer.Stargazer at 0x20c1a5da2e8>"
      ]
     },
     "execution_count": 73,
     "metadata": {},
     "output_type": "execute_result"
    }
   ],
   "source": [
    "from stargazer.stargazer import Stargazer\n",
    "#from IPython.core.display import HTML\n",
    "stargazer1 = Stargazer([lm20,lm30,lm40,lm50,lm51,lm60,gls_results1,wls_results])\n",
    "stargazer1.significant_digits(2)\n",
    "stargazer1.title(\"Table1s: Selected Regressions\")\n",
    "stargazer1\n",
    "#stargazer.render_latex()\n",
    "#stargazer.render_html()\n",
    "#\n",
    "#These lines were ignored\n",
    "#stargazer1.type=\"text\"\n",
    "#stargazer1.out=r'C:\\Users\\jfras\\OneDrive\\DataScience\\Python\\table1s.csv'\n",
    "#\n",
    "#https://github.com/mwburke/stargazer\n",
    "#https://web.northeastern.edu/econpress/wp-content/uploads/2016/04/Stargazer.pdf"
   ]
  },
  {
   "cell_type": "code",
   "execution_count": 74,
   "metadata": {},
   "outputs": [
    {
     "name": "stdout",
     "output_type": "stream",
     "text": [
      "                             Table 3 - OLS,GLS,WLS Regressions\n",
      "============================================================================================\n",
      "                 Model 20 Model 30 Model 40  Model 50  Model 51 Model 60 GLS   GLS     WLS  \n",
      "--------------------------------------------------------------------------------------------\n",
      "Intercept        -21.77   -1.30**  -21.77   -3439.45  -3439.45                              \n",
      "                 (29.48)  (0.65)   (37.14)  (2580.90) (2580.90)                             \n",
      "df20.sqrft_t                                                    0.09***                     \n",
      "                                                                (0.02)                      \n",
      "df20.bdrms       13.85    0.04     13.85                                                    \n",
      "                 (9.01)   (0.03)   (8.48)                                                   \n",
      "df20.bdrms_t                                                    10.73                       \n",
      "                                                                (8.04)                      \n",
      "df20.sqrft       0.12***           0.12***  2.49*     2.49*                                 \n",
      "                 (0.01)            (0.02)   (1.25)    (1.25)                                \n",
      "lotsize                                                                      0.00*** 0.00***\n",
      "                                                                             (0.00)  (0.00) \n",
      "bdrms                                                                        13.85   10.73  \n",
      "                                                                             (9.01)  (8.04) \n",
      "df20.lsqrft               0.70***                                                           \n",
      "                          (0.09)                                                            \n",
      "df20.llotsize             0.17***                                                           \n",
      "                          (0.04)                                                            \n",
      "sqrft                                                                        0.12*** 0.09***\n",
      "                                                                             (0.01)  (0.02) \n",
      "constant                                                                     -21.77  35.88  \n",
      "                                                                             (29.48) (29.84)\n",
      "df20.lotsize     0.00***           0.00*    0.20***   0.20***                               \n",
      "                 (0.00)            (0.00)   (0.07)    (0.07)                                \n",
      "df20.lotsize_t                                                  0.00***                     \n",
      "                                                                (0.00)                      \n",
      "df20.const_t                                                    35.88                       \n",
      "                                                                (29.84)                     \n",
      "R-squared        0.67     0.64     0.67     0.15      0.15      0.96         0.67    0.48   \n",
      "R-squared Adj.   0.66     0.63     0.66     0.13      0.13      0.96         0.66    0.47   \n",
      "R-squared        0.67     0.64     0.67     0.15      0.15      0.96         0.67    0.48   \n",
      "No. observations 88       88       88       88        88        88           88      88     \n",
      "============================================================================================\n",
      "Standard errors in parentheses.\n",
      "* p<.1, ** p<.05, ***p<.01\n"
     ]
    }
   ],
   "source": [
    "#now we'll collect some of the above regressions and print in an excel table\n",
    "#import the summary_col from the statsmodels library\n",
    "from statsmodels.iolib.summary2 import summary_col\n",
    "#example,dictionary of values to be called, .2f is a float with two decimals, d rounds to integer\n",
    "info_dict1={'R-squared' : lambda x: f\"{x.rsquared:.2f}\",\n",
    "           'No. observations' : lambda x: f\"{int(x.nobs):d}\"}\n",
    "\n",
    "results_table = summary_col(results=[lm20,lm30,lm40,lm50,lm51,lm60,gls_results1,wls_results],\n",
    "                            float_format='%0.2f',\n",
    "                            stars = True,\n",
    "                            model_names=['Model 20',\n",
    "                                         'Model 30',\n",
    "                                         'Model 40',\n",
    "                                         'Model 50',\n",
    "                                         'Model 51',\n",
    "                                         'Model 60 GLS',\n",
    "                                         'GLS',\n",
    "                                         'WLS',\n",
    "                                        ],\n",
    "                            info_dict=info_dict1,\n",
    "                            regressor_order=['Intercept',\n",
    "                                             'lot',\n",
    "                                             'floor',\n",
    "                                             'bed'])\n",
    "\n",
    "results_table.add_title('Table 3 - OLS,GLS,WLS Regressions')\n",
    "\n",
    "print(results_table)"
   ]
  },
  {
   "cell_type": "code",
   "execution_count": null,
   "metadata": {},
   "outputs": [],
   "source": []
  }
 ],
 "metadata": {
  "kernelspec": {
   "display_name": "Python 3",
   "language": "python",
   "name": "python3"
  },
  "language_info": {
   "codemirror_mode": {
    "name": "ipython",
    "version": 3
   },
   "file_extension": ".py",
   "mimetype": "text/x-python",
   "name": "python",
   "nbconvert_exporter": "python",
   "pygments_lexer": "ipython3",
   "version": "3.6.5"
  }
 },
 "nbformat": 4,
 "nbformat_minor": 2
}
